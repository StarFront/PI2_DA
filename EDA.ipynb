{
 "cells": [
  {
   "cell_type": "markdown",
   "metadata": {},
   "source": [
    "# **Análisis Exploratorio de Datos (EDA)**\n",
    "#\n",
    "\n"
   ]
  },
  {
   "cell_type": "markdown",
   "metadata": {},
   "source": [
    "## 1) Importe de librerias\n",
    "---"
   ]
  },
  {
   "cell_type": "code",
   "execution_count": 14,
   "metadata": {},
   "outputs": [],
   "source": [
    "import pandas as pd\n",
    "import geopandas as gpd\n",
    "import numpy as np\n",
    "import json\n",
    "import matplotlib.pyplot as plt\n",
    "from matplotlib.patches import Patch\n",
    "from ydata_profiling import ProfileReport\n",
    "from shapely.geometry import MultiPolygon, mapping\n",
    "from shapely import wkt"
   ]
  },
  {
   "cell_type": "markdown",
   "metadata": {},
   "source": [
    "## 2) Lectura de los archivos\n",
    "### (Archivos ubicados en la carpeta Datasets)\n",
    "---"
   ]
  },
  {
   "cell_type": "markdown",
   "metadata": {},
   "source": [
    "### - homicidios.xlsx"
   ]
  },
  {
   "cell_type": "code",
   "execution_count": 15,
   "metadata": {},
   "outputs": [],
   "source": [
    "hechos=pd.read_excel('Datasets\\homicidios.xlsx',sheet_name='HECHOS')\n",
    "victimas=pd.read_excel('Datasets\\homicidios.xlsx',sheet_name='VICTIMAS')"
   ]
  },
  {
   "cell_type": "code",
   "execution_count": 16,
   "metadata": {},
   "outputs": [
    {
     "data": {
      "text/html": [
       "<div>\n",
       "<style scoped>\n",
       "    .dataframe tbody tr th:only-of-type {\n",
       "        vertical-align: middle;\n",
       "    }\n",
       "\n",
       "    .dataframe tbody tr th {\n",
       "        vertical-align: top;\n",
       "    }\n",
       "\n",
       "    .dataframe thead th {\n",
       "        text-align: right;\n",
       "    }\n",
       "</style>\n",
       "<table border=\"1\" class=\"dataframe\">\n",
       "  <thead>\n",
       "    <tr style=\"text-align: right;\">\n",
       "      <th></th>\n",
       "      <th>ID</th>\n",
       "      <th>N_VICTIMAS</th>\n",
       "      <th>FECHA</th>\n",
       "      <th>AAAA</th>\n",
       "      <th>MM</th>\n",
       "      <th>DD</th>\n",
       "      <th>HORA</th>\n",
       "      <th>HH</th>\n",
       "      <th>LUGAR_DEL_HECHO</th>\n",
       "      <th>TIPO_DE_CALLE</th>\n",
       "      <th>...</th>\n",
       "      <th>Altura</th>\n",
       "      <th>Cruce</th>\n",
       "      <th>Dirección Normalizada</th>\n",
       "      <th>COMUNA</th>\n",
       "      <th>XY (CABA)</th>\n",
       "      <th>pos x</th>\n",
       "      <th>pos y</th>\n",
       "      <th>PARTICIPANTES</th>\n",
       "      <th>VICTIMA</th>\n",
       "      <th>ACUSADO</th>\n",
       "    </tr>\n",
       "  </thead>\n",
       "  <tbody>\n",
       "    <tr>\n",
       "      <th>693</th>\n",
       "      <td>2021-0095</td>\n",
       "      <td>1</td>\n",
       "      <td>2021-12-30</td>\n",
       "      <td>2021</td>\n",
       "      <td>12</td>\n",
       "      <td>30</td>\n",
       "      <td>00:43:00</td>\n",
       "      <td>0</td>\n",
       "      <td>AV. GAONA Y TERRADA</td>\n",
       "      <td>AVENIDA</td>\n",
       "      <td>...</td>\n",
       "      <td>NaN</td>\n",
       "      <td>TERRADA</td>\n",
       "      <td>GAONA AV. y TERRADA</td>\n",
       "      <td>11</td>\n",
       "      <td>Point (99116.45492358 101045.23284826)</td>\n",
       "      <td>-58.47293407</td>\n",
       "      <td>-34.61984745</td>\n",
       "      <td>MOTO-CARGAS</td>\n",
       "      <td>MOTO</td>\n",
       "      <td>CARGAS</td>\n",
       "    </tr>\n",
       "  </tbody>\n",
       "</table>\n",
       "<p>1 rows × 21 columns</p>\n",
       "</div>"
      ],
      "text/plain": [
       "            ID  N_VICTIMAS      FECHA  AAAA  MM  DD      HORA HH  \\\n",
       "693  2021-0095           1 2021-12-30  2021  12  30  00:43:00  0   \n",
       "\n",
       "         LUGAR_DEL_HECHO TIPO_DE_CALLE  ... Altura    Cruce  \\\n",
       "693  AV. GAONA Y TERRADA       AVENIDA  ...    NaN  TERRADA   \n",
       "\n",
       "    Dirección Normalizada COMUNA                               XY (CABA)  \\\n",
       "693   GAONA AV. y TERRADA     11  Point (99116.45492358 101045.23284826)   \n",
       "\n",
       "            pos x         pos y PARTICIPANTES VICTIMA ACUSADO  \n",
       "693  -58.47293407  -34.61984745   MOTO-CARGAS    MOTO  CARGAS  \n",
       "\n",
       "[1 rows x 21 columns]"
      ]
     },
     "execution_count": 16,
     "metadata": {},
     "output_type": "execute_result"
    }
   ],
   "source": [
    "hechos.sample()"
   ]
  },
  {
   "cell_type": "code",
   "execution_count": 17,
   "metadata": {},
   "outputs": [
    {
     "data": {
      "text/html": [
       "<div>\n",
       "<style scoped>\n",
       "    .dataframe tbody tr th:only-of-type {\n",
       "        vertical-align: middle;\n",
       "    }\n",
       "\n",
       "    .dataframe tbody tr th {\n",
       "        vertical-align: top;\n",
       "    }\n",
       "\n",
       "    .dataframe thead th {\n",
       "        text-align: right;\n",
       "    }\n",
       "</style>\n",
       "<table border=\"1\" class=\"dataframe\">\n",
       "  <thead>\n",
       "    <tr style=\"text-align: right;\">\n",
       "      <th></th>\n",
       "      <th>ID_hecho</th>\n",
       "      <th>FECHA</th>\n",
       "      <th>AAAA</th>\n",
       "      <th>MM</th>\n",
       "      <th>DD</th>\n",
       "      <th>ROL</th>\n",
       "      <th>VICTIMA</th>\n",
       "      <th>SEXO</th>\n",
       "      <th>EDAD</th>\n",
       "      <th>FECHA_FALLECIMIENTO</th>\n",
       "    </tr>\n",
       "  </thead>\n",
       "  <tbody>\n",
       "    <tr>\n",
       "      <th>217</th>\n",
       "      <td>2017-0085</td>\n",
       "      <td>2017-07-07</td>\n",
       "      <td>2017</td>\n",
       "      <td>7</td>\n",
       "      <td>7</td>\n",
       "      <td>PEATON</td>\n",
       "      <td>PEATON</td>\n",
       "      <td>MASCULINO</td>\n",
       "      <td>84</td>\n",
       "      <td>2017-07-07 00:00:00</td>\n",
       "    </tr>\n",
       "  </tbody>\n",
       "</table>\n",
       "</div>"
      ],
      "text/plain": [
       "      ID_hecho      FECHA  AAAA  MM  DD     ROL VICTIMA       SEXO EDAD  \\\n",
       "217  2017-0085 2017-07-07  2017   7   7  PEATON  PEATON  MASCULINO   84   \n",
       "\n",
       "     FECHA_FALLECIMIENTO  \n",
       "217  2017-07-07 00:00:00  "
      ]
     },
     "execution_count": 17,
     "metadata": {},
     "output_type": "execute_result"
    }
   ],
   "source": [
    "victimas.sample()"
   ]
  },
  {
   "cell_type": "markdown",
   "metadata": {},
   "source": [
    "### - camaras-fijas-de-control-vehicular.xlsx (Información adicional)"
   ]
  },
  {
   "cell_type": "code",
   "execution_count": 18,
   "metadata": {},
   "outputs": [],
   "source": [
    "df_camaras=pd.read_csv('Datasets\\camaras-fijas-de-control-vehicular.csv',encoding='ISO-8859-1', delimiter=';')"
   ]
  },
  {
   "cell_type": "code",
   "execution_count": 19,
   "metadata": {},
   "outputs": [
    {
     "data": {
      "text/html": [
       "<div>\n",
       "<style scoped>\n",
       "    .dataframe tbody tr th:only-of-type {\n",
       "        vertical-align: middle;\n",
       "    }\n",
       "\n",
       "    .dataframe tbody tr th {\n",
       "        vertical-align: top;\n",
       "    }\n",
       "\n",
       "    .dataframe thead th {\n",
       "        text-align: right;\n",
       "    }\n",
       "</style>\n",
       "<table border=\"1\" class=\"dataframe\">\n",
       "  <thead>\n",
       "    <tr style=\"text-align: right;\">\n",
       "      <th></th>\n",
       "      <th>Tipo de fiscalizador</th>\n",
       "      <th>Ubicación</th>\n",
       "      <th>Latitud</th>\n",
       "      <th>Longitud</th>\n",
       "      <th>Conducta fiscalizada</th>\n",
       "    </tr>\n",
       "  </thead>\n",
       "  <tbody>\n",
       "    <tr>\n",
       "      <th>5</th>\n",
       "      <td>Analítica de video</td>\n",
       "      <td>Av. Rivadavia 10524</td>\n",
       "      <td>-34.639352</td>\n",
       "      <td>-58.511761</td>\n",
       "      <td>semáforo rojo, senda peatonal, Giro indebido</td>\n",
       "    </tr>\n",
       "  </tbody>\n",
       "</table>\n",
       "</div>"
      ],
      "text/plain": [
       "  Tipo de fiscalizador            Ubicación    Latitud   Longitud  \\\n",
       "5   Analítica de video  Av. Rivadavia 10524 -34.639352 -58.511761   \n",
       "\n",
       "                           Conducta fiscalizada  \n",
       "5  semáforo rojo, senda peatonal, Giro indebido  "
      ]
     },
     "execution_count": 19,
     "metadata": {},
     "output_type": "execute_result"
    }
   ],
   "source": [
    "df_camaras.sample()"
   ]
  },
  {
   "cell_type": "markdown",
   "metadata": {},
   "source": [
    "### - Municipios (municipio.json)"
   ]
  },
  {
   "cell_type": "code",
   "execution_count": 20,
   "metadata": {},
   "outputs": [],
   "source": [
    "municipios_gdf = gpd.read_file(\"Datasets\\municipio.json\" )"
   ]
  },
  {
   "cell_type": "code",
   "execution_count": 21,
   "metadata": {},
   "outputs": [
    {
     "data": {
      "text/html": [
       "<div>\n",
       "<style scoped>\n",
       "    .dataframe tbody tr th:only-of-type {\n",
       "        vertical-align: middle;\n",
       "    }\n",
       "\n",
       "    .dataframe tbody tr th {\n",
       "        vertical-align: top;\n",
       "    }\n",
       "\n",
       "    .dataframe thead th {\n",
       "        text-align: right;\n",
       "    }\n",
       "</style>\n",
       "<table border=\"1\" class=\"dataframe\">\n",
       "  <thead>\n",
       "    <tr style=\"text-align: right;\">\n",
       "      <th></th>\n",
       "      <th>gid</th>\n",
       "      <th>fna</th>\n",
       "      <th>gna</th>\n",
       "      <th>nam</th>\n",
       "      <th>in1</th>\n",
       "      <th>fdc</th>\n",
       "      <th>sag</th>\n",
       "      <th>geometry</th>\n",
       "    </tr>\n",
       "  </thead>\n",
       "  <tbody>\n",
       "    <tr>\n",
       "      <th>942</th>\n",
       "      <td>816</td>\n",
       "      <td>Comuna Bella Italia</td>\n",
       "      <td>Comuna</td>\n",
       "      <td>Bella Italia</td>\n",
       "      <td>822140</td>\n",
       "      <td>Servicio de Catastro e Información Territorial</td>\n",
       "      <td>IGN</td>\n",
       "      <td>MULTIPOLYGON (((-61.31115 -31.20321, -61.31162...</td>\n",
       "    </tr>\n",
       "  </tbody>\n",
       "</table>\n",
       "</div>"
      ],
      "text/plain": [
       "     gid                  fna     gna           nam     in1  \\\n",
       "942  816  Comuna Bella Italia  Comuna  Bella Italia  822140   \n",
       "\n",
       "                                                fdc  sag  \\\n",
       "942  Servicio de Catastro e Información Territorial  IGN   \n",
       "\n",
       "                                              geometry  \n",
       "942  MULTIPOLYGON (((-61.31115 -31.20321, -61.31162...  "
      ]
     },
     "execution_count": 21,
     "metadata": {},
     "output_type": "execute_result"
    }
   ],
   "source": [
    "municipios_gdf.sample()"
   ]
  },
  {
   "cell_type": "markdown",
   "metadata": {},
   "source": [
    "---\n",
    "## Se prepara el dataset -Homicidios-"
   ]
  },
  {
   "cell_type": "code",
   "execution_count": 22,
   "metadata": {},
   "outputs": [
    {
     "data": {
      "text/html": [
       "<div>\n",
       "<style scoped>\n",
       "    .dataframe tbody tr th:only-of-type {\n",
       "        vertical-align: middle;\n",
       "    }\n",
       "\n",
       "    .dataframe tbody tr th {\n",
       "        vertical-align: top;\n",
       "    }\n",
       "\n",
       "    .dataframe thead th {\n",
       "        text-align: right;\n",
       "    }\n",
       "</style>\n",
       "<table border=\"1\" class=\"dataframe\">\n",
       "  <thead>\n",
       "    <tr style=\"text-align: right;\">\n",
       "      <th></th>\n",
       "      <th>ID</th>\n",
       "      <th>N_VICTIMAS</th>\n",
       "      <th>FECHA</th>\n",
       "      <th>AAAA</th>\n",
       "      <th>MM</th>\n",
       "      <th>DD</th>\n",
       "      <th>HORA</th>\n",
       "      <th>HH</th>\n",
       "      <th>LUGAR_DEL_HECHO</th>\n",
       "      <th>TIPO_DE_CALLE</th>\n",
       "      <th>...</th>\n",
       "      <th>Altura</th>\n",
       "      <th>Cruce</th>\n",
       "      <th>Dirección Normalizada</th>\n",
       "      <th>COMUNA</th>\n",
       "      <th>XY (CABA)</th>\n",
       "      <th>pos x</th>\n",
       "      <th>pos y</th>\n",
       "      <th>PARTICIPANTES</th>\n",
       "      <th>VICTIMA</th>\n",
       "      <th>ACUSADO</th>\n",
       "    </tr>\n",
       "  </thead>\n",
       "  <tbody>\n",
       "    <tr>\n",
       "      <th>0</th>\n",
       "      <td>2016-0001</td>\n",
       "      <td>1</td>\n",
       "      <td>2016-01-01</td>\n",
       "      <td>2016</td>\n",
       "      <td>1</td>\n",
       "      <td>1</td>\n",
       "      <td>04:00:00</td>\n",
       "      <td>4</td>\n",
       "      <td>AV PIEDRA BUENA Y AV FERNANDEZ DE LA CRUZ</td>\n",
       "      <td>AVENIDA</td>\n",
       "      <td>...</td>\n",
       "      <td>NaN</td>\n",
       "      <td>FERNANDEZ DE LA CRUZ, F., GRAL. AV.</td>\n",
       "      <td>PIEDRA BUENA AV. y FERNANDEZ DE LA CRUZ, F., G...</td>\n",
       "      <td>8</td>\n",
       "      <td>Point (98896.78238426 93532.43437792)</td>\n",
       "      <td>-58.47533969</td>\n",
       "      <td>-34.68757022</td>\n",
       "      <td>MOTO-AUTO</td>\n",
       "      <td>MOTO</td>\n",
       "      <td>AUTO</td>\n",
       "    </tr>\n",
       "    <tr>\n",
       "      <th>1</th>\n",
       "      <td>2016-0002</td>\n",
       "      <td>1</td>\n",
       "      <td>2016-01-02</td>\n",
       "      <td>2016</td>\n",
       "      <td>1</td>\n",
       "      <td>2</td>\n",
       "      <td>01:15:00</td>\n",
       "      <td>1</td>\n",
       "      <td>AV GRAL PAZ  Y AV DE LOS CORRALES</td>\n",
       "      <td>GRAL PAZ</td>\n",
       "      <td>...</td>\n",
       "      <td>NaN</td>\n",
       "      <td>DE LOS CORRALES AV.</td>\n",
       "      <td>PAZ, GRAL. AV. y DE LOS CORRALES AV.</td>\n",
       "      <td>9</td>\n",
       "      <td>Point (95832.05571093 95505.41641999)</td>\n",
       "      <td>-58.50877521</td>\n",
       "      <td>-34.66977709</td>\n",
       "      <td>AUTO-PASAJEROS</td>\n",
       "      <td>AUTO</td>\n",
       "      <td>PASAJEROS</td>\n",
       "    </tr>\n",
       "    <tr>\n",
       "      <th>2</th>\n",
       "      <td>2016-0003</td>\n",
       "      <td>1</td>\n",
       "      <td>2016-01-03</td>\n",
       "      <td>2016</td>\n",
       "      <td>1</td>\n",
       "      <td>3</td>\n",
       "      <td>07:00:00</td>\n",
       "      <td>7</td>\n",
       "      <td>AV ENTRE RIOS 2034</td>\n",
       "      <td>AVENIDA</td>\n",
       "      <td>...</td>\n",
       "      <td>2034.0</td>\n",
       "      <td>NaN</td>\n",
       "      <td>ENTRE RIOS AV. 2034</td>\n",
       "      <td>1</td>\n",
       "      <td>Point (106684.29090040 99706.57687843)</td>\n",
       "      <td>-58.39040293</td>\n",
       "      <td>-34.63189362</td>\n",
       "      <td>MOTO-AUTO</td>\n",
       "      <td>MOTO</td>\n",
       "      <td>AUTO</td>\n",
       "    </tr>\n",
       "    <tr>\n",
       "      <th>3</th>\n",
       "      <td>2016-0004</td>\n",
       "      <td>1</td>\n",
       "      <td>2016-01-10</td>\n",
       "      <td>2016</td>\n",
       "      <td>1</td>\n",
       "      <td>10</td>\n",
       "      <td>00:00:00</td>\n",
       "      <td>0</td>\n",
       "      <td>AV LARRAZABAL Y GRAL VILLEGAS CONRADO</td>\n",
       "      <td>AVENIDA</td>\n",
       "      <td>...</td>\n",
       "      <td>NaN</td>\n",
       "      <td>VILLEGAS, CONRADO, GRAL.</td>\n",
       "      <td>LARRAZABAL AV. y VILLEGAS, CONRADO, GRAL.</td>\n",
       "      <td>8</td>\n",
       "      <td>Point (99840.65224780 94269.16534422)</td>\n",
       "      <td>-58.46503904</td>\n",
       "      <td>-34.68092974</td>\n",
       "      <td>MOTO-SD</td>\n",
       "      <td>MOTO</td>\n",
       "      <td>SD</td>\n",
       "    </tr>\n",
       "    <tr>\n",
       "      <th>4</th>\n",
       "      <td>2016-0005</td>\n",
       "      <td>1</td>\n",
       "      <td>2016-01-21</td>\n",
       "      <td>2016</td>\n",
       "      <td>1</td>\n",
       "      <td>21</td>\n",
       "      <td>05:20:00</td>\n",
       "      <td>5</td>\n",
       "      <td>AV SAN JUAN Y PRESIDENTE LUIS SAENZ PEÑA</td>\n",
       "      <td>AVENIDA</td>\n",
       "      <td>...</td>\n",
       "      <td>NaN</td>\n",
       "      <td>SAENZ PE?A, LUIS, PRES.</td>\n",
       "      <td>SAN JUAN AV. y SAENZ PEÃ‘A, LUIS, PRES.</td>\n",
       "      <td>1</td>\n",
       "      <td>Point (106980.32827929 100752.16915795)</td>\n",
       "      <td>-58.38718297</td>\n",
       "      <td>-34.62246630</td>\n",
       "      <td>MOTO-PASAJEROS</td>\n",
       "      <td>MOTO</td>\n",
       "      <td>PASAJEROS</td>\n",
       "    </tr>\n",
       "  </tbody>\n",
       "</table>\n",
       "<p>5 rows × 21 columns</p>\n",
       "</div>"
      ],
      "text/plain": [
       "          ID  N_VICTIMAS      FECHA  AAAA  MM  DD      HORA HH  \\\n",
       "0  2016-0001           1 2016-01-01  2016   1   1  04:00:00  4   \n",
       "1  2016-0002           1 2016-01-02  2016   1   2  01:15:00  1   \n",
       "2  2016-0003           1 2016-01-03  2016   1   3  07:00:00  7   \n",
       "3  2016-0004           1 2016-01-10  2016   1  10  00:00:00  0   \n",
       "4  2016-0005           1 2016-01-21  2016   1  21  05:20:00  5   \n",
       "\n",
       "                             LUGAR_DEL_HECHO TIPO_DE_CALLE  ...  Altura  \\\n",
       "0  AV PIEDRA BUENA Y AV FERNANDEZ DE LA CRUZ       AVENIDA  ...     NaN   \n",
       "1          AV GRAL PAZ  Y AV DE LOS CORRALES      GRAL PAZ  ...     NaN   \n",
       "2                         AV ENTRE RIOS 2034       AVENIDA  ...  2034.0   \n",
       "3      AV LARRAZABAL Y GRAL VILLEGAS CONRADO       AVENIDA  ...     NaN   \n",
       "4  AV SAN JUAN Y PRESIDENTE LUIS SAENZ PEÑA        AVENIDA  ...     NaN   \n",
       "\n",
       "                                 Cruce  \\\n",
       "0  FERNANDEZ DE LA CRUZ, F., GRAL. AV.   \n",
       "1                  DE LOS CORRALES AV.   \n",
       "2                                  NaN   \n",
       "3             VILLEGAS, CONRADO, GRAL.   \n",
       "4              SAENZ PE?A, LUIS, PRES.   \n",
       "\n",
       "                               Dirección Normalizada COMUNA  \\\n",
       "0  PIEDRA BUENA AV. y FERNANDEZ DE LA CRUZ, F., G...      8   \n",
       "1               PAZ, GRAL. AV. y DE LOS CORRALES AV.      9   \n",
       "2                                ENTRE RIOS AV. 2034      1   \n",
       "3          LARRAZABAL AV. y VILLEGAS, CONRADO, GRAL.      8   \n",
       "4            SAN JUAN AV. y SAENZ PEÃ‘A, LUIS, PRES.      1   \n",
       "\n",
       "                                 XY (CABA)         pos x         pos y  \\\n",
       "0    Point (98896.78238426 93532.43437792)  -58.47533969  -34.68757022   \n",
       "1    Point (95832.05571093 95505.41641999)  -58.50877521  -34.66977709   \n",
       "2   Point (106684.29090040 99706.57687843)  -58.39040293  -34.63189362   \n",
       "3    Point (99840.65224780 94269.16534422)  -58.46503904  -34.68092974   \n",
       "4  Point (106980.32827929 100752.16915795)  -58.38718297  -34.62246630   \n",
       "\n",
       "    PARTICIPANTES VICTIMA    ACUSADO  \n",
       "0       MOTO-AUTO    MOTO       AUTO  \n",
       "1  AUTO-PASAJEROS    AUTO  PASAJEROS  \n",
       "2       MOTO-AUTO    MOTO       AUTO  \n",
       "3         MOTO-SD    MOTO         SD  \n",
       "4  MOTO-PASAJEROS    MOTO  PASAJEROS  \n",
       "\n",
       "[5 rows x 21 columns]"
      ]
     },
     "execution_count": 22,
     "metadata": {},
     "output_type": "execute_result"
    }
   ],
   "source": [
    "hechos.head()"
   ]
  },
  {
   "cell_type": "code",
   "execution_count": 23,
   "metadata": {},
   "outputs": [
    {
     "data": {
      "text/html": [
       "<div>\n",
       "<style scoped>\n",
       "    .dataframe tbody tr th:only-of-type {\n",
       "        vertical-align: middle;\n",
       "    }\n",
       "\n",
       "    .dataframe tbody tr th {\n",
       "        vertical-align: top;\n",
       "    }\n",
       "\n",
       "    .dataframe thead th {\n",
       "        text-align: right;\n",
       "    }\n",
       "</style>\n",
       "<table border=\"1\" class=\"dataframe\">\n",
       "  <thead>\n",
       "    <tr style=\"text-align: right;\">\n",
       "      <th></th>\n",
       "      <th>ID</th>\n",
       "      <th>N_VICTIMAS</th>\n",
       "      <th>FECHA</th>\n",
       "      <th>AAAA</th>\n",
       "      <th>MM</th>\n",
       "      <th>DD</th>\n",
       "      <th>HORA</th>\n",
       "      <th>HH</th>\n",
       "      <th>LUGAR_DEL_HECHO</th>\n",
       "      <th>TIPO_DE_CALLE</th>\n",
       "      <th>...</th>\n",
       "      <th>Altura</th>\n",
       "      <th>Cruce</th>\n",
       "      <th>Dirección Normalizada</th>\n",
       "      <th>COMUNA</th>\n",
       "      <th>XY (CABA)</th>\n",
       "      <th>pos x</th>\n",
       "      <th>pos y</th>\n",
       "      <th>PARTICIPANTES</th>\n",
       "      <th>VICTIMA</th>\n",
       "      <th>ACUSADO</th>\n",
       "    </tr>\n",
       "  </thead>\n",
       "  <tbody>\n",
       "    <tr>\n",
       "      <th>384</th>\n",
       "      <td>2018-0110</td>\n",
       "      <td>1</td>\n",
       "      <td>2018-10-13</td>\n",
       "      <td>2018</td>\n",
       "      <td>10</td>\n",
       "      <td>13</td>\n",
       "      <td>03:05:00</td>\n",
       "      <td>3</td>\n",
       "      <td>Corrientes Av. y Gallardo, Angel Av.</td>\n",
       "      <td>AVENIDA</td>\n",
       "      <td>...</td>\n",
       "      <td>NaN</td>\n",
       "      <td>GALLARDO, ANGEL AV.</td>\n",
       "      <td>CORRIENTES AV. y GALLARDO, ANGEL AV.</td>\n",
       "      <td>15</td>\n",
       "      <td>Point (102852.69197214 103016.76479974)</td>\n",
       "      <td>-58.43220014</td>\n",
       "      <td>-34.60207186</td>\n",
       "      <td>PEATON-MOTO</td>\n",
       "      <td>PEATON</td>\n",
       "      <td>MOTO</td>\n",
       "    </tr>\n",
       "  </tbody>\n",
       "</table>\n",
       "<p>1 rows × 21 columns</p>\n",
       "</div>"
      ],
      "text/plain": [
       "            ID  N_VICTIMAS      FECHA  AAAA  MM  DD      HORA HH  \\\n",
       "384  2018-0110           1 2018-10-13  2018  10  13  03:05:00  3   \n",
       "\n",
       "                          LUGAR_DEL_HECHO TIPO_DE_CALLE  ... Altura  \\\n",
       "384  Corrientes Av. y Gallardo, Angel Av.       AVENIDA  ...    NaN   \n",
       "\n",
       "                   Cruce                 Dirección Normalizada COMUNA  \\\n",
       "384  GALLARDO, ANGEL AV.  CORRIENTES AV. y GALLARDO, ANGEL AV.     15   \n",
       "\n",
       "                                   XY (CABA)         pos x         pos y  \\\n",
       "384  Point (102852.69197214 103016.76479974)  -58.43220014  -34.60207186   \n",
       "\n",
       "    PARTICIPANTES VICTIMA ACUSADO  \n",
       "384   PEATON-MOTO  PEATON    MOTO  \n",
       "\n",
       "[1 rows x 21 columns]"
      ]
     },
     "execution_count": 23,
     "metadata": {},
     "output_type": "execute_result"
    }
   ],
   "source": [
    "hechos.sample()"
   ]
  },
  {
   "cell_type": "code",
   "execution_count": 24,
   "metadata": {},
   "outputs": [
    {
     "data": {
      "text/html": [
       "<div>\n",
       "<style scoped>\n",
       "    .dataframe tbody tr th:only-of-type {\n",
       "        vertical-align: middle;\n",
       "    }\n",
       "\n",
       "    .dataframe tbody tr th {\n",
       "        vertical-align: top;\n",
       "    }\n",
       "\n",
       "    .dataframe thead th {\n",
       "        text-align: right;\n",
       "    }\n",
       "</style>\n",
       "<table border=\"1\" class=\"dataframe\">\n",
       "  <thead>\n",
       "    <tr style=\"text-align: right;\">\n",
       "      <th></th>\n",
       "      <th>ID_hecho</th>\n",
       "      <th>FECHA</th>\n",
       "      <th>AAAA</th>\n",
       "      <th>MM</th>\n",
       "      <th>DD</th>\n",
       "      <th>ROL</th>\n",
       "      <th>VICTIMA</th>\n",
       "      <th>SEXO</th>\n",
       "      <th>EDAD</th>\n",
       "      <th>FECHA_FALLECIMIENTO</th>\n",
       "    </tr>\n",
       "  </thead>\n",
       "  <tbody>\n",
       "    <tr>\n",
       "      <th>0</th>\n",
       "      <td>2016-0001</td>\n",
       "      <td>2016-01-01</td>\n",
       "      <td>2016</td>\n",
       "      <td>1</td>\n",
       "      <td>1</td>\n",
       "      <td>CONDUCTOR</td>\n",
       "      <td>MOTO</td>\n",
       "      <td>MASCULINO</td>\n",
       "      <td>19</td>\n",
       "      <td>2016-01-01 00:00:00</td>\n",
       "    </tr>\n",
       "    <tr>\n",
       "      <th>1</th>\n",
       "      <td>2016-0002</td>\n",
       "      <td>2016-01-02</td>\n",
       "      <td>2016</td>\n",
       "      <td>1</td>\n",
       "      <td>2</td>\n",
       "      <td>CONDUCTOR</td>\n",
       "      <td>AUTO</td>\n",
       "      <td>MASCULINO</td>\n",
       "      <td>70</td>\n",
       "      <td>2016-01-02 00:00:00</td>\n",
       "    </tr>\n",
       "    <tr>\n",
       "      <th>2</th>\n",
       "      <td>2016-0003</td>\n",
       "      <td>2016-01-03</td>\n",
       "      <td>2016</td>\n",
       "      <td>1</td>\n",
       "      <td>3</td>\n",
       "      <td>CONDUCTOR</td>\n",
       "      <td>MOTO</td>\n",
       "      <td>MASCULINO</td>\n",
       "      <td>30</td>\n",
       "      <td>2016-01-03 00:00:00</td>\n",
       "    </tr>\n",
       "    <tr>\n",
       "      <th>3</th>\n",
       "      <td>2016-0004</td>\n",
       "      <td>2016-01-10</td>\n",
       "      <td>2016</td>\n",
       "      <td>1</td>\n",
       "      <td>10</td>\n",
       "      <td>CONDUCTOR</td>\n",
       "      <td>MOTO</td>\n",
       "      <td>MASCULINO</td>\n",
       "      <td>18</td>\n",
       "      <td>SD</td>\n",
       "    </tr>\n",
       "    <tr>\n",
       "      <th>4</th>\n",
       "      <td>2016-0005</td>\n",
       "      <td>2016-01-21</td>\n",
       "      <td>2016</td>\n",
       "      <td>1</td>\n",
       "      <td>21</td>\n",
       "      <td>CONDUCTOR</td>\n",
       "      <td>MOTO</td>\n",
       "      <td>MASCULINO</td>\n",
       "      <td>29</td>\n",
       "      <td>2016-02-01 00:00:00</td>\n",
       "    </tr>\n",
       "  </tbody>\n",
       "</table>\n",
       "</div>"
      ],
      "text/plain": [
       "    ID_hecho      FECHA  AAAA  MM  DD        ROL VICTIMA       SEXO EDAD  \\\n",
       "0  2016-0001 2016-01-01  2016   1   1  CONDUCTOR    MOTO  MASCULINO   19   \n",
       "1  2016-0002 2016-01-02  2016   1   2  CONDUCTOR    AUTO  MASCULINO   70   \n",
       "2  2016-0003 2016-01-03  2016   1   3  CONDUCTOR    MOTO  MASCULINO   30   \n",
       "3  2016-0004 2016-01-10  2016   1  10  CONDUCTOR    MOTO  MASCULINO   18   \n",
       "4  2016-0005 2016-01-21  2016   1  21  CONDUCTOR    MOTO  MASCULINO   29   \n",
       "\n",
       "   FECHA_FALLECIMIENTO  \n",
       "0  2016-01-01 00:00:00  \n",
       "1  2016-01-02 00:00:00  \n",
       "2  2016-01-03 00:00:00  \n",
       "3                   SD  \n",
       "4  2016-02-01 00:00:00  "
      ]
     },
     "execution_count": 24,
     "metadata": {},
     "output_type": "execute_result"
    }
   ],
   "source": [
    "victimas.head()"
   ]
  },
  {
   "cell_type": "markdown",
   "metadata": {},
   "source": [
    "### Union de los dataframes para trabajar de manera más cómoda:"
   ]
  },
  {
   "cell_type": "code",
   "execution_count": 25,
   "metadata": {},
   "outputs": [],
   "source": [
    "#renombramos la columna ID_hecho para usarla como parametro\n",
    "victimas=victimas.rename(columns={'ID_hecho':'ID'})"
   ]
  },
  {
   "cell_type": "code",
   "execution_count": 26,
   "metadata": {},
   "outputs": [],
   "source": [
    "#realizamos el merge\n",
    "combinado = hechos.merge(victimas, on='ID', how='inner')"
   ]
  },
  {
   "cell_type": "code",
   "execution_count": 27,
   "metadata": {},
   "outputs": [
    {
     "data": {
      "text/plain": [
       "Index(['ID', 'N_VICTIMAS', 'FECHA_x', 'AAAA_x', 'MM_x', 'DD_x', 'HORA', 'HH',\n",
       "       'LUGAR_DEL_HECHO', 'TIPO_DE_CALLE', 'Calle', 'Altura', 'Cruce',\n",
       "       'Dirección Normalizada', 'COMUNA', 'XY (CABA)', 'pos x', 'pos y',\n",
       "       'PARTICIPANTES', 'VICTIMA_x', 'ACUSADO', 'FECHA_y', 'AAAA_y', 'MM_y',\n",
       "       'DD_y', 'ROL', 'VICTIMA_y', 'SEXO', 'EDAD', 'FECHA_FALLECIMIENTO'],\n",
       "      dtype='object')"
      ]
     },
     "execution_count": 27,
     "metadata": {},
     "output_type": "execute_result"
    }
   ],
   "source": [
    "combinado.columns"
   ]
  },
  {
   "cell_type": "markdown",
   "metadata": {},
   "source": [
    "### Al haber datos repetidos se verifica cuales son y son eliminados:"
   ]
  },
  {
   "cell_type": "code",
   "execution_count": 28,
   "metadata": {},
   "outputs": [
    {
     "name": "stdout",
     "output_type": "stream",
     "text": [
      "Pares de columnas iguales:\n",
      "AAAA_x y AAAA_y son iguales\n",
      "MM_x y MM_y son iguales\n",
      "AAAA_y y AAAA_x son iguales\n",
      "MM_y y MM_x son iguales\n"
     ]
    }
   ],
   "source": [
    "def encontrar_columnas_diferentes(df):\n",
    "\n",
    "    columnas_diferentes = []\n",
    "    columnas_iguales = []\n",
    "\n",
    "    for columna1 in df.columns:\n",
    "        for columna2 in df.columns:\n",
    "            if columna1 != columna2:\n",
    "                if (df[columna1] == df[columna2]).all():\n",
    "                    columnas_iguales.append((columna1, columna2))\n",
    "                elif not (df[columna1] == df[columna2]).all():\n",
    "                    columnas_diferentes.append((columna1, columna2))\n",
    "\n",
    "    return columnas_iguales, columnas_diferentes\n",
    "\n",
    "# Ejemplo de uso con tus columnas\n",
    "columnas_iguales, columnas_diferentes = encontrar_columnas_diferentes(combinado[combinado.columns])\n",
    "\n",
    "print(\"Pares de columnas iguales:\")\n",
    "for columna1, columna2 in columnas_iguales:\n",
    "    print(f\"{columna1} y {columna2} son iguales\")\n"
   ]
  },
  {
   "cell_type": "markdown",
   "metadata": {},
   "source": [
    "\n",
    "### Se encontraron 2 columnas con el mismo contenido, se realiza el drop a una de ellas:"
   ]
  },
  {
   "cell_type": "code",
   "execution_count": 29,
   "metadata": {},
   "outputs": [],
   "source": [
    "combinado = combinado.drop(['AAAA_y','MM_y'],axis=1)"
   ]
  },
  {
   "cell_type": "markdown",
   "metadata": {},
   "source": [
    "#### Sin embargo entre las columnas de los dataframes existian otras columnas con el mismo nombre, así que se comprueba qué es lo que esta causando estas diferencias, para eso se crea una función que devuelve los índices con anomalias."
   ]
  },
  {
   "cell_type": "code",
   "execution_count": 30,
   "metadata": {},
   "outputs": [],
   "source": [
    "indices=[]\n",
    "for index, row  in combinado[['FECHA_x','FECHA_y', 'DD_x','DD_y', 'VICTIMA_x',  'VICTIMA_y']].iterrows():\n",
    "\n",
    "    if row['FECHA_x'] !=row['FECHA_y']:\n",
    "        indices.append(index)\n",
    "\n",
    "\n",
    "    if row['DD_x'] !=row['DD_y']:\n",
    "        indices.append(index)\n",
    "    if row['VICTIMA_x'] !=row['VICTIMA_y']:\n",
    "        indices.append(index)"
   ]
  },
  {
   "cell_type": "markdown",
   "metadata": {},
   "source": [
    "#### Se muestran solo los indices y las columnas que deberian ser iguales, esto, en los indices que arrojó la funcion."
   ]
  },
  {
   "cell_type": "code",
   "execution_count": 31,
   "metadata": {},
   "outputs": [
    {
     "data": {
      "text/html": [
       "<div>\n",
       "<style scoped>\n",
       "    .dataframe tbody tr th:only-of-type {\n",
       "        vertical-align: middle;\n",
       "    }\n",
       "\n",
       "    .dataframe tbody tr th {\n",
       "        vertical-align: top;\n",
       "    }\n",
       "\n",
       "    .dataframe thead th {\n",
       "        text-align: right;\n",
       "    }\n",
       "</style>\n",
       "<table border=\"1\" class=\"dataframe\">\n",
       "  <thead>\n",
       "    <tr style=\"text-align: right;\">\n",
       "      <th></th>\n",
       "      <th>FECHA_x</th>\n",
       "      <th>FECHA_y</th>\n",
       "      <th>DD_x</th>\n",
       "      <th>DD_y</th>\n",
       "      <th>VICTIMA_x</th>\n",
       "      <th>ACUSADO</th>\n",
       "      <th>VICTIMA_y</th>\n",
       "      <th>FECHA_FALLECIMIENTO</th>\n",
       "    </tr>\n",
       "  </thead>\n",
       "  <tbody>\n",
       "    <tr>\n",
       "      <th>65</th>\n",
       "      <td>2016-07-02</td>\n",
       "      <td>2016-07-03</td>\n",
       "      <td>3</td>\n",
       "      <td>3</td>\n",
       "      <td>MOTO</td>\n",
       "      <td>OBJETO FIJO</td>\n",
       "      <td>MOTO</td>\n",
       "      <td>2016-07-03 00:00:00</td>\n",
       "    </tr>\n",
       "    <tr>\n",
       "      <th>204</th>\n",
       "      <td>2017-05-24</td>\n",
       "      <td>2017-05-29</td>\n",
       "      <td>24</td>\n",
       "      <td>29</td>\n",
       "      <td>MOTO</td>\n",
       "      <td>SD</td>\n",
       "      <td>MOTO</td>\n",
       "      <td>2017-05-29 00:00:00</td>\n",
       "    </tr>\n",
       "    <tr>\n",
       "      <th>204</th>\n",
       "      <td>2017-05-24</td>\n",
       "      <td>2017-05-29</td>\n",
       "      <td>24</td>\n",
       "      <td>29</td>\n",
       "      <td>MOTO</td>\n",
       "      <td>SD</td>\n",
       "      <td>MOTO</td>\n",
       "      <td>2017-05-29 00:00:00</td>\n",
       "    </tr>\n",
       "    <tr>\n",
       "      <th>237</th>\n",
       "      <td>2017-09-02</td>\n",
       "      <td>2017-09-02</td>\n",
       "      <td>2</td>\n",
       "      <td>2</td>\n",
       "      <td>OBJETO FIJO</td>\n",
       "      <td>AUTO</td>\n",
       "      <td>AUTO</td>\n",
       "      <td>2017-09-02 00:00:00</td>\n",
       "    </tr>\n",
       "    <tr>\n",
       "      <th>238</th>\n",
       "      <td>2017-09-02</td>\n",
       "      <td>2017-09-02</td>\n",
       "      <td>2</td>\n",
       "      <td>2</td>\n",
       "      <td>OBJETO FIJO</td>\n",
       "      <td>AUTO</td>\n",
       "      <td>AUTO</td>\n",
       "      <td>2017-09-02 00:00:00</td>\n",
       "    </tr>\n",
       "    <tr>\n",
       "      <th>602</th>\n",
       "      <td>2020-12-05</td>\n",
       "      <td>2020-12-05</td>\n",
       "      <td>5</td>\n",
       "      <td>5</td>\n",
       "      <td>PEATON_MOTO</td>\n",
       "      <td>MOTO</td>\n",
       "      <td>PEATON</td>\n",
       "      <td>2020-12-05 00:00:00</td>\n",
       "    </tr>\n",
       "    <tr>\n",
       "      <th>603</th>\n",
       "      <td>2020-12-05</td>\n",
       "      <td>2020-12-05</td>\n",
       "      <td>5</td>\n",
       "      <td>5</td>\n",
       "      <td>PEATON_MOTO</td>\n",
       "      <td>MOTO</td>\n",
       "      <td>MOTO</td>\n",
       "      <td>2020-12-05 00:00:00</td>\n",
       "    </tr>\n",
       "  </tbody>\n",
       "</table>\n",
       "</div>"
      ],
      "text/plain": [
       "       FECHA_x    FECHA_y  DD_x  DD_y    VICTIMA_x      ACUSADO VICTIMA_y  \\\n",
       "65  2016-07-02 2016-07-03     3     3         MOTO  OBJETO FIJO      MOTO   \n",
       "204 2017-05-24 2017-05-29    24    29         MOTO           SD      MOTO   \n",
       "204 2017-05-24 2017-05-29    24    29         MOTO           SD      MOTO   \n",
       "237 2017-09-02 2017-09-02     2     2  OBJETO FIJO         AUTO      AUTO   \n",
       "238 2017-09-02 2017-09-02     2     2  OBJETO FIJO         AUTO      AUTO   \n",
       "602 2020-12-05 2020-12-05     5     5  PEATON_MOTO         MOTO    PEATON   \n",
       "603 2020-12-05 2020-12-05     5     5  PEATON_MOTO         MOTO      MOTO   \n",
       "\n",
       "     FECHA_FALLECIMIENTO  \n",
       "65   2016-07-03 00:00:00  \n",
       "204  2017-05-29 00:00:00  \n",
       "204  2017-05-29 00:00:00  \n",
       "237  2017-09-02 00:00:00  \n",
       "238  2017-09-02 00:00:00  \n",
       "602  2020-12-05 00:00:00  \n",
       "603  2020-12-05 00:00:00  "
      ]
     },
     "execution_count": 31,
     "metadata": {},
     "output_type": "execute_result"
    }
   ],
   "source": [
    "combinado[['FECHA_x','FECHA_y', 'DD_x','DD_y', 'VICTIMA_x','ACUSADO',  'VICTIMA_y','FECHA_FALLECIMIENTO' ]].iloc[indices]"
   ]
  },
  {
   "cell_type": "markdown",
   "metadata": {},
   "source": [
    "##### Entre las fechas encontramos que hay ciertas diferencias porque al parecer en la columna fecha proviniente de el archivo victimas corresponde a la fecha de fallecimiento y no a la fecha del suceso, por lo tanto decido quedarme la fecha que de verdad es relevante para el estudio actual que es la fecha del suceso."
   ]
  },
  {
   "cell_type": "code",
   "execution_count": 32,
   "metadata": {},
   "outputs": [],
   "source": [
    "combinado = combinado.drop(['FECHA_y','DD_y'],axis=1)"
   ]
  },
  {
   "cell_type": "markdown",
   "metadata": {},
   "source": [
    "##### Verificando los valores distintos para las columnas victimas vemos que en la columna vctima proviniente del archivo hechos se da por victima a un objeto fijo y por acusado a un AUTO lo que es incoherente con la definicion de victima dada por el dataset es la siguente: Vehículo que ocupaba quien haya fallecido a se haya lastimado a raíz del hecho, o bien peatón/a. Clasificación agregada del tipo de vehículos.\n",
    "##### y en el apartado de victima no esta definido el objeto fijo como una victima posible"
   ]
  },
  {
   "cell_type": "code",
   "execution_count": 33,
   "metadata": {},
   "outputs": [
    {
     "data": {
      "text/html": [
       "<div>\n",
       "<style scoped>\n",
       "    .dataframe tbody tr th:only-of-type {\n",
       "        vertical-align: middle;\n",
       "    }\n",
       "\n",
       "    .dataframe tbody tr th {\n",
       "        vertical-align: top;\n",
       "    }\n",
       "\n",
       "    .dataframe thead th {\n",
       "        text-align: right;\n",
       "    }\n",
       "</style>\n",
       "<table border=\"1\" class=\"dataframe\">\n",
       "  <thead>\n",
       "    <tr style=\"text-align: right;\">\n",
       "      <th></th>\n",
       "      <th>ID</th>\n",
       "      <th>N_VICTIMAS</th>\n",
       "      <th>FECHA_x</th>\n",
       "      <th>AAAA_x</th>\n",
       "      <th>MM_x</th>\n",
       "      <th>DD_x</th>\n",
       "      <th>HORA</th>\n",
       "      <th>HH</th>\n",
       "      <th>LUGAR_DEL_HECHO</th>\n",
       "      <th>TIPO_DE_CALLE</th>\n",
       "      <th>...</th>\n",
       "      <th>pos x</th>\n",
       "      <th>pos y</th>\n",
       "      <th>PARTICIPANTES</th>\n",
       "      <th>VICTIMA_x</th>\n",
       "      <th>ACUSADO</th>\n",
       "      <th>ROL</th>\n",
       "      <th>VICTIMA_y</th>\n",
       "      <th>SEXO</th>\n",
       "      <th>EDAD</th>\n",
       "      <th>FECHA_FALLECIMIENTO</th>\n",
       "    </tr>\n",
       "  </thead>\n",
       "  <tbody>\n",
       "    <tr>\n",
       "      <th>237</th>\n",
       "      <td>2017-0108</td>\n",
       "      <td>2</td>\n",
       "      <td>2017-09-02</td>\n",
       "      <td>2017</td>\n",
       "      <td>9</td>\n",
       "      <td>2</td>\n",
       "      <td>04:53:08</td>\n",
       "      <td>4</td>\n",
       "      <td>AV. GRAL. PAZ Y MACHAIN</td>\n",
       "      <td>GRAL PAZ</td>\n",
       "      <td>...</td>\n",
       "      <td>-58.49491054</td>\n",
       "      <td>-34.54795581</td>\n",
       "      <td>AUTO-OBJETO FIJO</td>\n",
       "      <td>OBJETO FIJO</td>\n",
       "      <td>AUTO</td>\n",
       "      <td>PASAJERO_ACOMPAÑANTE</td>\n",
       "      <td>AUTO</td>\n",
       "      <td>MASCULINO</td>\n",
       "      <td>17</td>\n",
       "      <td>2017-09-02 00:00:00</td>\n",
       "    </tr>\n",
       "    <tr>\n",
       "      <th>238</th>\n",
       "      <td>2017-0108</td>\n",
       "      <td>2</td>\n",
       "      <td>2017-09-02</td>\n",
       "      <td>2017</td>\n",
       "      <td>9</td>\n",
       "      <td>2</td>\n",
       "      <td>04:53:08</td>\n",
       "      <td>4</td>\n",
       "      <td>AV. GRAL. PAZ Y MACHAIN</td>\n",
       "      <td>GRAL PAZ</td>\n",
       "      <td>...</td>\n",
       "      <td>-58.49491054</td>\n",
       "      <td>-34.54795581</td>\n",
       "      <td>AUTO-OBJETO FIJO</td>\n",
       "      <td>OBJETO FIJO</td>\n",
       "      <td>AUTO</td>\n",
       "      <td>PASAJERO_ACOMPAÑANTE</td>\n",
       "      <td>AUTO</td>\n",
       "      <td>MASCULINO</td>\n",
       "      <td>10</td>\n",
       "      <td>2017-09-02 00:00:00</td>\n",
       "    </tr>\n",
       "  </tbody>\n",
       "</table>\n",
       "<p>2 rows × 26 columns</p>\n",
       "</div>"
      ],
      "text/plain": [
       "            ID  N_VICTIMAS    FECHA_x  AAAA_x  MM_x  DD_x      HORA HH  \\\n",
       "237  2017-0108           2 2017-09-02    2017     9     2  04:53:08  4   \n",
       "238  2017-0108           2 2017-09-02    2017     9     2  04:53:08  4   \n",
       "\n",
       "             LUGAR_DEL_HECHO TIPO_DE_CALLE  ...         pos x         pos y  \\\n",
       "237  AV. GRAL. PAZ Y MACHAIN      GRAL PAZ  ...  -58.49491054  -34.54795581   \n",
       "238  AV. GRAL. PAZ Y MACHAIN      GRAL PAZ  ...  -58.49491054  -34.54795581   \n",
       "\n",
       "        PARTICIPANTES    VICTIMA_x  ACUSADO                   ROL VICTIMA_y  \\\n",
       "237  AUTO-OBJETO FIJO  OBJETO FIJO     AUTO  PASAJERO_ACOMPAÑANTE      AUTO   \n",
       "238  AUTO-OBJETO FIJO  OBJETO FIJO     AUTO  PASAJERO_ACOMPAÑANTE      AUTO   \n",
       "\n",
       "          SEXO EDAD  FECHA_FALLECIMIENTO  \n",
       "237  MASCULINO   17  2017-09-02 00:00:00  \n",
       "238  MASCULINO   10  2017-09-02 00:00:00  \n",
       "\n",
       "[2 rows x 26 columns]"
      ]
     },
     "execution_count": 33,
     "metadata": {},
     "output_type": "execute_result"
    }
   ],
   "source": [
    "combinado[combinado['VICTIMA_x']=='OBJETO FIJO']"
   ]
  },
  {
   "cell_type": "markdown",
   "metadata": {},
   "source": [
    "#### Esto solo pasa para este hecho asi que se confirma que se debe a un error por lo que se procedera a corregirse"
   ]
  },
  {
   "cell_type": "code",
   "execution_count": 34,
   "metadata": {},
   "outputs": [],
   "source": [
    "def columns_modifier(mode,DF,columns, value, replace=None):\n",
    "    df=DF.copy()\n",
    "    if mode == 'swap':\n",
    "        for index, row in df.iterrows():\n",
    "\n",
    "            value_1=row[columns[0]]\n",
    "            value_2=row[columns[1]]\n",
    "\n",
    "            if value_1== value:\n",
    "                temp=value_1\n",
    "                df.at[index, columns[0]] = value_2\n",
    "                df.at[index, columns[1]] = temp\n",
    "    if mode == 'replace':\n",
    "        for index, row in df.iterrows():\n",
    "            to_replace=row[columns[0]]\n",
    "\n",
    "            if to_replace == value:\n",
    "                df.at[index, columns[0]] = replace\n",
    "    \n",
    "    return df\n",
    "\n",
    "\n",
    "    "
   ]
  },
  {
   "cell_type": "code",
   "execution_count": 35,
   "metadata": {},
   "outputs": [],
   "source": [
    "columns=['VICTIMA_x','ACUSADO']\n",
    "combinado=columns_modifier('swap',combinado,columns,'OBJETO FIJO')"
   ]
  },
  {
   "cell_type": "code",
   "execution_count": 36,
   "metadata": {},
   "outputs": [
    {
     "data": {
      "text/html": [
       "<div>\n",
       "<style scoped>\n",
       "    .dataframe tbody tr th:only-of-type {\n",
       "        vertical-align: middle;\n",
       "    }\n",
       "\n",
       "    .dataframe tbody tr th {\n",
       "        vertical-align: top;\n",
       "    }\n",
       "\n",
       "    .dataframe thead th {\n",
       "        text-align: right;\n",
       "    }\n",
       "</style>\n",
       "<table border=\"1\" class=\"dataframe\">\n",
       "  <thead>\n",
       "    <tr style=\"text-align: right;\">\n",
       "      <th></th>\n",
       "      <th>FECHA_x</th>\n",
       "      <th>DD_x</th>\n",
       "      <th>VICTIMA_x</th>\n",
       "      <th>ACUSADO</th>\n",
       "      <th>VICTIMA_y</th>\n",
       "      <th>FECHA_FALLECIMIENTO</th>\n",
       "    </tr>\n",
       "  </thead>\n",
       "  <tbody>\n",
       "    <tr>\n",
       "      <th>65</th>\n",
       "      <td>2016-07-02</td>\n",
       "      <td>3</td>\n",
       "      <td>MOTO</td>\n",
       "      <td>OBJETO FIJO</td>\n",
       "      <td>MOTO</td>\n",
       "      <td>2016-07-03 00:00:00</td>\n",
       "    </tr>\n",
       "    <tr>\n",
       "      <th>204</th>\n",
       "      <td>2017-05-24</td>\n",
       "      <td>24</td>\n",
       "      <td>MOTO</td>\n",
       "      <td>SD</td>\n",
       "      <td>MOTO</td>\n",
       "      <td>2017-05-29 00:00:00</td>\n",
       "    </tr>\n",
       "    <tr>\n",
       "      <th>204</th>\n",
       "      <td>2017-05-24</td>\n",
       "      <td>24</td>\n",
       "      <td>MOTO</td>\n",
       "      <td>SD</td>\n",
       "      <td>MOTO</td>\n",
       "      <td>2017-05-29 00:00:00</td>\n",
       "    </tr>\n",
       "    <tr>\n",
       "      <th>237</th>\n",
       "      <td>2017-09-02</td>\n",
       "      <td>2</td>\n",
       "      <td>AUTO</td>\n",
       "      <td>OBJETO FIJO</td>\n",
       "      <td>AUTO</td>\n",
       "      <td>2017-09-02 00:00:00</td>\n",
       "    </tr>\n",
       "    <tr>\n",
       "      <th>238</th>\n",
       "      <td>2017-09-02</td>\n",
       "      <td>2</td>\n",
       "      <td>AUTO</td>\n",
       "      <td>OBJETO FIJO</td>\n",
       "      <td>AUTO</td>\n",
       "      <td>2017-09-02 00:00:00</td>\n",
       "    </tr>\n",
       "    <tr>\n",
       "      <th>602</th>\n",
       "      <td>2020-12-05</td>\n",
       "      <td>5</td>\n",
       "      <td>PEATON_MOTO</td>\n",
       "      <td>MOTO</td>\n",
       "      <td>PEATON</td>\n",
       "      <td>2020-12-05 00:00:00</td>\n",
       "    </tr>\n",
       "    <tr>\n",
       "      <th>603</th>\n",
       "      <td>2020-12-05</td>\n",
       "      <td>5</td>\n",
       "      <td>PEATON_MOTO</td>\n",
       "      <td>MOTO</td>\n",
       "      <td>MOTO</td>\n",
       "      <td>2020-12-05 00:00:00</td>\n",
       "    </tr>\n",
       "  </tbody>\n",
       "</table>\n",
       "</div>"
      ],
      "text/plain": [
       "       FECHA_x  DD_x    VICTIMA_x      ACUSADO VICTIMA_y  FECHA_FALLECIMIENTO\n",
       "65  2016-07-02     3         MOTO  OBJETO FIJO      MOTO  2016-07-03 00:00:00\n",
       "204 2017-05-24    24         MOTO           SD      MOTO  2017-05-29 00:00:00\n",
       "204 2017-05-24    24         MOTO           SD      MOTO  2017-05-29 00:00:00\n",
       "237 2017-09-02     2         AUTO  OBJETO FIJO      AUTO  2017-09-02 00:00:00\n",
       "238 2017-09-02     2         AUTO  OBJETO FIJO      AUTO  2017-09-02 00:00:00\n",
       "602 2020-12-05     5  PEATON_MOTO         MOTO    PEATON  2020-12-05 00:00:00\n",
       "603 2020-12-05     5  PEATON_MOTO         MOTO      MOTO  2020-12-05 00:00:00"
      ]
     },
     "execution_count": 36,
     "metadata": {},
     "output_type": "execute_result"
    }
   ],
   "source": [
    "combinado[['FECHA_x', 'DD_x', 'VICTIMA_x','ACUSADO',  'VICTIMA_y','FECHA_FALLECIMIENTO' ]].iloc[indices]"
   ]
  },
  {
   "cell_type": "code",
   "execution_count": 37,
   "metadata": {},
   "outputs": [
    {
     "data": {
      "text/plain": [
       "[602, 603]"
      ]
     },
     "execution_count": 37,
     "metadata": {},
     "output_type": "execute_result"
    }
   ],
   "source": [
    "indices=[]\n",
    "for index, row  in combinado[['VICTIMA_x', 'VICTIMA_y']].iterrows():\n",
    "\n",
    "    if row['VICTIMA_x'] !=row['VICTIMA_y']:\n",
    "        indices.append(index)\n",
    "indices"
   ]
  },
  {
   "cell_type": "code",
   "execution_count": 38,
   "metadata": {},
   "outputs": [
    {
     "data": {
      "text/html": [
       "<div>\n",
       "<style scoped>\n",
       "    .dataframe tbody tr th:only-of-type {\n",
       "        vertical-align: middle;\n",
       "    }\n",
       "\n",
       "    .dataframe tbody tr th {\n",
       "        vertical-align: top;\n",
       "    }\n",
       "\n",
       "    .dataframe thead th {\n",
       "        text-align: right;\n",
       "    }\n",
       "</style>\n",
       "<table border=\"1\" class=\"dataframe\">\n",
       "  <thead>\n",
       "    <tr style=\"text-align: right;\">\n",
       "      <th></th>\n",
       "      <th>VICTIMA_x</th>\n",
       "      <th>VICTIMA_y</th>\n",
       "    </tr>\n",
       "  </thead>\n",
       "  <tbody>\n",
       "    <tr>\n",
       "      <th>602</th>\n",
       "      <td>PEATON_MOTO</td>\n",
       "      <td>PEATON</td>\n",
       "    </tr>\n",
       "    <tr>\n",
       "      <th>603</th>\n",
       "      <td>PEATON_MOTO</td>\n",
       "      <td>MOTO</td>\n",
       "    </tr>\n",
       "  </tbody>\n",
       "</table>\n",
       "</div>"
      ],
      "text/plain": [
       "       VICTIMA_x VICTIMA_y\n",
       "602  PEATON_MOTO    PEATON\n",
       "603  PEATON_MOTO      MOTO"
      ]
     },
     "execution_count": 38,
     "metadata": {},
     "output_type": "execute_result"
    }
   ],
   "source": [
    "combinado[[ 'VICTIMA_x',  'VICTIMA_y']].iloc[indices]"
   ]
  },
  {
   "cell_type": "markdown",
   "metadata": {},
   "source": [
    "##### Ahora, ya que los únicos registros que son distintos en estas columnas son estos y podemos ver que una columna repite la misma información dos veces mientras que la otra nos aporta informacion sobre cada victima, nos quedaremos con la columna VICTIMA_y que es la mas completa."
   ]
  },
  {
   "cell_type": "code",
   "execution_count": 39,
   "metadata": {},
   "outputs": [],
   "source": [
    "combinado = combinado.drop(['VICTIMA_x'],axis=1)"
   ]
  },
  {
   "cell_type": "code",
   "execution_count": 40,
   "metadata": {},
   "outputs": [
    {
     "data": {
      "text/plain": [
       "Index(['ID', 'N_VICTIMAS', 'FECHA_x', 'AAAA_x', 'MM_x', 'DD_x', 'HORA', 'HH',\n",
       "       'LUGAR_DEL_HECHO', 'TIPO_DE_CALLE', 'Calle', 'Altura', 'Cruce',\n",
       "       'Dirección Normalizada', 'COMUNA', 'XY (CABA)', 'pos x', 'pos y',\n",
       "       'PARTICIPANTES', 'ACUSADO', 'ROL', 'VICTIMA_y', 'SEXO', 'EDAD',\n",
       "       'FECHA_FALLECIMIENTO'],\n",
       "      dtype='object')"
      ]
     },
     "execution_count": 40,
     "metadata": {},
     "output_type": "execute_result"
    }
   ],
   "source": [
    "combinado.columns"
   ]
  },
  {
   "cell_type": "code",
   "execution_count": 41,
   "metadata": {},
   "outputs": [],
   "source": [
    "combinado = combinado.rename(columns={'FECHA_x':'FECHA', 'AAAA_x':'AAAA', 'MM_x':'MM', 'DD_x':'DD', 'pos x':'Longitud','pos y':'Latitud', 'VICTIMA_y':'VICTIMA'})"
   ]
  },
  {
   "cell_type": "markdown",
   "metadata": {},
   "source": [
    "Revisando la columna numero de victimas se encuentra una incongruencia debido al merge ya que el numero de victimas total deberia ser 717 vicitmas ya que esa es la  cantidad de registros en el archivo victimas"
   ]
  },
  {
   "cell_type": "code",
   "execution_count": 42,
   "metadata": {},
   "outputs": [
    {
     "data": {
      "text/plain": [
       "761"
      ]
     },
     "execution_count": 42,
     "metadata": {},
     "output_type": "execute_result"
    }
   ],
   "source": [
    "combinado['N_VICTIMAS'].sum()"
   ]
  },
  {
   "cell_type": "markdown",
   "metadata": {},
   "source": [
    "vemos que para solucionar esto basta con igualar la columna siempre a 1"
   ]
  },
  {
   "cell_type": "code",
   "execution_count": 43,
   "metadata": {},
   "outputs": [],
   "source": [
    "combinado['N_VICTIMAS']=1"
   ]
  },
  {
   "cell_type": "code",
   "execution_count": 44,
   "metadata": {},
   "outputs": [
    {
     "data": {
      "text/plain": [
       "717"
      ]
     },
     "execution_count": 44,
     "metadata": {},
     "output_type": "execute_result"
    }
   ],
   "source": [
    "combinado['N_VICTIMAS'].sum()"
   ]
  },
  {
   "cell_type": "markdown",
   "metadata": {},
   "source": [
    "En este punto ya hemos completado la fusion de los archivos "
   ]
  },
  {
   "cell_type": "code",
   "execution_count": 45,
   "metadata": {},
   "outputs": [],
   "source": [
    "def encontrar_valores(df, valor_a_encontrar):\n",
    "    resultados = []\n",
    "    \n",
    "    for columna in df.columns:\n",
    "        columnas_con_valores = []\n",
    "        indices_con_valores = []\n",
    "\n",
    "        for indice, valor in df[columna].items():\n",
    "            if valor == valor_a_encontrar:\n",
    "                columnas_con_valores.append(columna)\n",
    "                indices_con_valores.append(indice)\n",
    "        \n",
    "        if columnas_con_valores:\n",
    "            resultados.append({\n",
    "                'Columna': columna,\n",
    "                'Indices': indices_con_valores\n",
    "            })\n",
    "    \n",
    "    return resultados"
   ]
  },
  {
   "cell_type": "code",
   "execution_count": 46,
   "metadata": {},
   "outputs": [
    {
     "data": {
      "text/plain": [
       "[{'Columna': 'HORA', 'Indices': [536]},\n",
       " {'Columna': 'HH', 'Indices': [536]},\n",
       " {'Columna': 'LUGAR_DEL_HECHO', 'Indices': [121]},\n",
       " {'Columna': 'ACUSADO',\n",
       "  'Indices': [3,\n",
       "   33,\n",
       "   36,\n",
       "   39,\n",
       "   58,\n",
       "   77,\n",
       "   84,\n",
       "   93,\n",
       "   107,\n",
       "   114,\n",
       "   121,\n",
       "   128,\n",
       "   141,\n",
       "   162,\n",
       "   204,\n",
       "   208,\n",
       "   223,\n",
       "   409,\n",
       "   413,\n",
       "   457,\n",
       "   468,\n",
       "   475,\n",
       "   641]},\n",
       " {'Columna': 'ROL',\n",
       "  'Indices': [36, 39, 63, 77, 89, 141, 167, 208, 221, 280, 390]},\n",
       " {'Columna': 'VICTIMA', 'Indices': [36, 77, 89, 93, 141, 167, 208, 221, 280]},\n",
       " {'Columna': 'SEXO', 'Indices': [36, 39, 108, 121, 138, 141]},\n",
       " {'Columna': 'EDAD',\n",
       "  'Indices': [30,\n",
       "   33,\n",
       "   35,\n",
       "   36,\n",
       "   39,\n",
       "   55,\n",
       "   63,\n",
       "   72,\n",
       "   89,\n",
       "   93,\n",
       "   108,\n",
       "   119,\n",
       "   121,\n",
       "   138,\n",
       "   141,\n",
       "   142,\n",
       "   165,\n",
       "   176,\n",
       "   182,\n",
       "   225,\n",
       "   243,\n",
       "   275,\n",
       "   277,\n",
       "   299,\n",
       "   328,\n",
       "   359,\n",
       "   367,\n",
       "   371,\n",
       "   377,\n",
       "   391,\n",
       "   421,\n",
       "   444,\n",
       "   446,\n",
       "   454,\n",
       "   457,\n",
       "   461,\n",
       "   463,\n",
       "   469,\n",
       "   478,\n",
       "   497,\n",
       "   505,\n",
       "   528,\n",
       "   529,\n",
       "   548,\n",
       "   552,\n",
       "   555,\n",
       "   563,\n",
       "   572,\n",
       "   579,\n",
       "   631,\n",
       "   639,\n",
       "   647,\n",
       "   698]},\n",
       " {'Columna': 'FECHA_FALLECIMIENTO',\n",
       "  'Indices': [3,\n",
       "   16,\n",
       "   19,\n",
       "   22,\n",
       "   33,\n",
       "   35,\n",
       "   36,\n",
       "   39,\n",
       "   46,\n",
       "   48,\n",
       "   49,\n",
       "   51,\n",
       "   52,\n",
       "   55,\n",
       "   56,\n",
       "   57,\n",
       "   58,\n",
       "   59,\n",
       "   63,\n",
       "   72,\n",
       "   74,\n",
       "   75,\n",
       "   77,\n",
       "   78,\n",
       "   81,\n",
       "   82,\n",
       "   84,\n",
       "   87,\n",
       "   89,\n",
       "   91,\n",
       "   93,\n",
       "   95,\n",
       "   96,\n",
       "   97,\n",
       "   98,\n",
       "   99,\n",
       "   100,\n",
       "   103,\n",
       "   108,\n",
       "   109,\n",
       "   110,\n",
       "   111,\n",
       "   112,\n",
       "   114,\n",
       "   115,\n",
       "   117,\n",
       "   119,\n",
       "   121,\n",
       "   124,\n",
       "   125,\n",
       "   127,\n",
       "   128,\n",
       "   132,\n",
       "   133,\n",
       "   134,\n",
       "   138,\n",
       "   140,\n",
       "   141,\n",
       "   142,\n",
       "   143,\n",
       "   144,\n",
       "   145,\n",
       "   181,\n",
       "   221,\n",
       "   242,\n",
       "   246,\n",
       "   253,\n",
       "   280]}]"
      ]
     },
     "execution_count": 46,
     "metadata": {},
     "output_type": "execute_result"
    }
   ],
   "source": [
    "columnasSD=encontrar_valores(combinado, 'SD')\n",
    "columnasSD"
   ]
  },
  {
   "cell_type": "code",
   "execution_count": 47,
   "metadata": {},
   "outputs": [],
   "source": [
    "columna=['HH']\n",
    "combinado=columns_modifier('replace',combinado,columna,'SD',np.nan)"
   ]
  },
  {
   "cell_type": "code",
   "execution_count": 48,
   "metadata": {},
   "outputs": [],
   "source": [
    "columna=['HORA']\n",
    "combinado=columns_modifier('replace',combinado,columna,'SD',np.nan)"
   ]
  },
  {
   "cell_type": "markdown",
   "metadata": {},
   "source": [
    "Hasta ahora ya no hay valores SD en las columnas HORA Y HH puesto que fueron reemplazados por NaN. Ahora podriamos imputar estos valores. "
   ]
  },
  {
   "cell_type": "code",
   "execution_count": 49,
   "metadata": {},
   "outputs": [],
   "source": [
    "def convertir_hora(decimal_hora):\n",
    "    # Extraer la parte entera y decimal de la hora\n",
    "    horas_enteras = int(decimal_hora)\n",
    "    minutos_decimales = (decimal_hora - horas_enteras) * 60\n",
    "\n",
    "    # Formatear como cadena de tiempo (HH:MM)\n",
    "    hora_formateada = f\"{horas_enteras:02d}:{int(minutos_decimales):02d}\"\n",
    "\n",
    "    return hora_formateada"
   ]
  },
  {
   "cell_type": "code",
   "execution_count": 50,
   "metadata": {},
   "outputs": [],
   "source": [
    "combinado['HORA']=combinado['HORA'].fillna(convertir_hora(combinado['HH'].mean()))\n",
    "combinado['HH']=combinado['HH'].fillna(combinado['HH'].mean()).apply(int)"
   ]
  },
  {
   "cell_type": "markdown",
   "metadata": {},
   "source": [
    "Verificamos si los resultados son correctos."
   ]
  },
  {
   "cell_type": "code",
   "execution_count": 51,
   "metadata": {},
   "outputs": [
    {
     "data": {
      "text/html": [
       "<div>\n",
       "<style scoped>\n",
       "    .dataframe tbody tr th:only-of-type {\n",
       "        vertical-align: middle;\n",
       "    }\n",
       "\n",
       "    .dataframe tbody tr th {\n",
       "        vertical-align: top;\n",
       "    }\n",
       "\n",
       "    .dataframe thead th {\n",
       "        text-align: right;\n",
       "    }\n",
       "</style>\n",
       "<table border=\"1\" class=\"dataframe\">\n",
       "  <thead>\n",
       "    <tr style=\"text-align: right;\">\n",
       "      <th></th>\n",
       "      <th>ID</th>\n",
       "      <th>N_VICTIMAS</th>\n",
       "      <th>FECHA</th>\n",
       "      <th>AAAA</th>\n",
       "      <th>MM</th>\n",
       "      <th>DD</th>\n",
       "      <th>HORA</th>\n",
       "      <th>HH</th>\n",
       "      <th>LUGAR_DEL_HECHO</th>\n",
       "      <th>TIPO_DE_CALLE</th>\n",
       "      <th>...</th>\n",
       "      <th>XY (CABA)</th>\n",
       "      <th>Longitud</th>\n",
       "      <th>Latitud</th>\n",
       "      <th>PARTICIPANTES</th>\n",
       "      <th>ACUSADO</th>\n",
       "      <th>ROL</th>\n",
       "      <th>VICTIMA</th>\n",
       "      <th>SEXO</th>\n",
       "      <th>EDAD</th>\n",
       "      <th>FECHA_FALLECIMIENTO</th>\n",
       "    </tr>\n",
       "  </thead>\n",
       "  <tbody>\n",
       "    <tr>\n",
       "      <th>536</th>\n",
       "      <td>2019-0103</td>\n",
       "      <td>1</td>\n",
       "      <td>2019-12-18</td>\n",
       "      <td>2019</td>\n",
       "      <td>12</td>\n",
       "      <td>18</td>\n",
       "      <td>11:33</td>\n",
       "      <td>11</td>\n",
       "      <td>PAZ, GRAL. AV. Y GRIVEO</td>\n",
       "      <td>GRAL PAZ</td>\n",
       "      <td>...</td>\n",
       "      <td>Point (94643.11254058 103831.57115061)</td>\n",
       "      <td>-58.52169422</td>\n",
       "      <td>-34.59471640</td>\n",
       "      <td>MOTO-MOTO</td>\n",
       "      <td>MOTO</td>\n",
       "      <td>CONDUCTOR</td>\n",
       "      <td>MOTO</td>\n",
       "      <td>MASCULINO</td>\n",
       "      <td>24</td>\n",
       "      <td>2019-12-18 00:00:00</td>\n",
       "    </tr>\n",
       "  </tbody>\n",
       "</table>\n",
       "<p>1 rows × 25 columns</p>\n",
       "</div>"
      ],
      "text/plain": [
       "            ID  N_VICTIMAS      FECHA  AAAA  MM  DD   HORA  HH  \\\n",
       "536  2019-0103           1 2019-12-18  2019  12  18  11:33  11   \n",
       "\n",
       "             LUGAR_DEL_HECHO TIPO_DE_CALLE  ...  \\\n",
       "536  PAZ, GRAL. AV. Y GRIVEO      GRAL PAZ  ...   \n",
       "\n",
       "                                  XY (CABA)      Longitud       Latitud  \\\n",
       "536  Point (94643.11254058 103831.57115061)  -58.52169422  -34.59471640   \n",
       "\n",
       "    PARTICIPANTES  ACUSADO        ROL VICTIMA       SEXO EDAD  \\\n",
       "536     MOTO-MOTO     MOTO  CONDUCTOR    MOTO  MASCULINO   24   \n",
       "\n",
       "     FECHA_FALLECIMIENTO  \n",
       "536  2019-12-18 00:00:00  \n",
       "\n",
       "[1 rows x 25 columns]"
      ]
     },
     "execution_count": 51,
     "metadata": {},
     "output_type": "execute_result"
    }
   ],
   "source": [
    "combinado.iloc[[536]]"
   ]
  },
  {
   "cell_type": "markdown",
   "metadata": {},
   "source": [
    "para finalizar con esta etapa aplicamos la funcion columns_modifier para cambiar los valores SD por NaN."
   ]
  },
  {
   "cell_type": "code",
   "execution_count": 52,
   "metadata": {},
   "outputs": [],
   "source": [
    "\n",
    "combinado=columns_modifier('replace',combinado,['EDAD'],'SD',np.nan)"
   ]
  },
  {
   "cell_type": "code",
   "execution_count": 54,
   "metadata": {},
   "outputs": [],
   "source": [
    "combinado.to_csv('Recursos_dashboard/Datos_homicidios.csv', index=False)"
   ]
  },
  {
   "cell_type": "markdown",
   "metadata": {},
   "source": [
    "## Dataset Municipio\n",
    "---"
   ]
  },
  {
   "cell_type": "markdown",
   "metadata": {},
   "source": [
    "\n",
    "##### El propósito fundamental de tener este archivo es proporcionarme datos sobre las coordenadas que delimitan cada comuna. Dado que contiene información sobre todas las comunas de Argentina, necesito realizar un filtro para extraer únicamente aquellas relacionadas con la Ciudad Autónoma de Buenos Aires (CABA)."
   ]
  },
  {
   "cell_type": "code",
   "execution_count": 55,
   "metadata": {},
   "outputs": [],
   "source": [
    "comunas_filtradas = municipios_gdf[municipios_gdf['nam'].str.contains('Comuna \\d+')]"
   ]
  },
  {
   "cell_type": "markdown",
   "metadata": {},
   "source": [
    "Para confirmar que el filtro fue aplicado correctamente se realiza una grafica de las comunas existentes en el nuevo archivo comunas_filtradas"
   ]
  },
  {
   "cell_type": "code",
   "execution_count": 56,
   "metadata": {},
   "outputs": [],
   "source": [
    "comunas_filtradas=comunas_filtradas.set_crs(\"EPSG:4326\")"
   ]
  },
  {
   "cell_type": "code",
   "execution_count": 57,
   "metadata": {},
   "outputs": [
    {
     "name": "stderr",
     "output_type": "stream",
     "text": [
      "C:\\Users\\ememp\\AppData\\Local\\Temp\\ipykernel_15348\\752988342.py:41: UserWarning: Geometry is in a geographic CRS. Results from 'centroid' are likely incorrect. Use 'GeoSeries.to_crs()' to re-project geometries to a projected CRS before this operation.\n",
      "\n",
      "  comunas_filtradas['centroid'] = comunas_filtradas['geometry'].centroid\n",
      "No artists with labels found to put in legend.  Note that artists whose label start with an underscore are ignored when legend() is called with no argument.\n"
     ]
    },
    {
     "data": {
      "image/png": "[encoded data removed]",
      "text/plain": [
       "<Figure size 1200x800 with 1 Axes>"
      ]
     },
     "metadata": {},
     "output_type": "display_data"
    }
   ],
   "source": [
    "comunas_color = {\n",
    "    'Comuna 1': 'blue',\n",
    "    'Comuna 2': 'green',\n",
    "    'Comuna 3': 'red',\n",
    "    'Comuna 4': 'purple',\n",
    "    'Comuna 5': 'orange',\n",
    "    'Comuna 6': 'pink',\n",
    "    'Comuna 7': 'cyan',\n",
    "    'Comuna 8': 'magenta',\n",
    "    'Comuna 9': 'brown',\n",
    "    'Comuna 10': 'gray',\n",
    "    'Comuna 11': 'yellow',\n",
    "    'Comuna 12': 'lime',\n",
    "    'Comuna 13': 'olive',\n",
    "    'Comuna 14': 'teal',\n",
    "    'Comuna 15': 'navy'\n",
    "}\n",
    "\n",
    "\n",
    "# Grafico\n",
    "fig, ax = plt.subplots(figsize=(12, 8))\n",
    "\n",
    "legend_handles = []\n",
    "for comuna, color in comunas_color.items():\n",
    "    patch = Patch(color=color, label=comuna)\n",
    "    legend_handles.append(patch)\n",
    "    comunas_filtradas[comunas_filtradas['nam'] == comuna].plot(ax=ax, color=color)\n",
    "\n",
    "# Leyenda\n",
    "ax.legend(handles=legend_handles)\n",
    "\n",
    "# Título del gráfico\n",
    "ax.set_title(\"Comunas de Buenos Aires\")\n",
    "\n",
    "# Etiquetas de los ejes\n",
    "ax.set_xlabel(\"Longitud\")\n",
    "ax.set_ylabel(\"Latitud\")\n",
    "\n",
    "\n",
    "# Calcular los centroides en el sistema de coordenadas de tus ubicaciones\n",
    "comunas_filtradas['centroid'] = comunas_filtradas['geometry'].centroid\n",
    "\n",
    "# Mostrar los nombres de las comunas en el gráfico\n",
    "for x, y, label in zip(comunas_filtradas['centroid'].x, comunas_filtradas['centroid'].y, comunas_filtradas['nam']):\n",
    "    ax.text(x, y, label, fontsize=10, ha='center', va='center')\n",
    "\n",
    "# Mostrar la leyenda\n",
    "ax.legend()\n",
    "\n",
    "\n",
    "# Mostrar el gráfico\n",
    "plt.show()"
   ]
  },
  {
   "cell_type": "code",
   "execution_count": 58,
   "metadata": {},
   "outputs": [
    {
     "data": {
      "text/html": [
       "<div>\n",
       "<style scoped>\n",
       "    .dataframe tbody tr th:only-of-type {\n",
       "        vertical-align: middle;\n",
       "    }\n",
       "\n",
       "    .dataframe tbody tr th {\n",
       "        vertical-align: top;\n",
       "    }\n",
       "\n",
       "    .dataframe thead th {\n",
       "        text-align: right;\n",
       "    }\n",
       "</style>\n",
       "<table border=\"1\" class=\"dataframe\">\n",
       "  <thead>\n",
       "    <tr style=\"text-align: right;\">\n",
       "      <th></th>\n",
       "      <th>gid</th>\n",
       "      <th>fna</th>\n",
       "      <th>gna</th>\n",
       "      <th>nam</th>\n",
       "      <th>in1</th>\n",
       "      <th>fdc</th>\n",
       "      <th>sag</th>\n",
       "      <th>geometry</th>\n",
       "      <th>centroid</th>\n",
       "    </tr>\n",
       "  </thead>\n",
       "  <tbody>\n",
       "    <tr>\n",
       "      <th>68</th>\n",
       "      <td>1698</td>\n",
       "      <td>Comuna 13</td>\n",
       "      <td>Comuna</td>\n",
       "      <td>Comuna 13</td>\n",
       "      <td>022091</td>\n",
       "      <td>Direc. de Catastro</td>\n",
       "      <td>IGN</td>\n",
       "      <td>MULTIPOLYGON (((-58.45535 -34.52776, -58.45404...</td>\n",
       "      <td>POINT (-58.45396 -34.55418)</td>\n",
       "    </tr>\n",
       "    <tr>\n",
       "      <th>69</th>\n",
       "      <td>1705</td>\n",
       "      <td>Comuna 1</td>\n",
       "      <td>Comuna</td>\n",
       "      <td>Comuna 1</td>\n",
       "      <td>022007</td>\n",
       "      <td>Direc. de Catastro</td>\n",
       "      <td>IGN</td>\n",
       "      <td>MULTIPOLYGON (((-58.38609 -34.57823, -58.38592...</td>\n",
       "      <td>POINT (-58.37151 -34.60644)</td>\n",
       "    </tr>\n",
       "    <tr>\n",
       "      <th>1725</th>\n",
       "      <td>1703</td>\n",
       "      <td>Comuna 3</td>\n",
       "      <td>Comuna</td>\n",
       "      <td>Comuna 3</td>\n",
       "      <td>022021</td>\n",
       "      <td>Direc. de Catastro</td>\n",
       "      <td>IGN</td>\n",
       "      <td>MULTIPOLYGON (((-58.41026 -34.59811, -58.40939...</td>\n",
       "      <td>POINT (-58.40265 -34.61384)</td>\n",
       "    </tr>\n",
       "    <tr>\n",
       "      <th>1735</th>\n",
       "      <td>1694</td>\n",
       "      <td>Comuna 7</td>\n",
       "      <td>Comuna</td>\n",
       "      <td>Comuna 7</td>\n",
       "      <td>022049</td>\n",
       "      <td>Direc. de Catastro</td>\n",
       "      <td>IGN</td>\n",
       "      <td>MULTIPOLYGON (((-58.45900 -34.61475, -58.45846...</td>\n",
       "      <td>POINT (-58.45189 -34.63655)</td>\n",
       "    </tr>\n",
       "    <tr>\n",
       "      <th>1742</th>\n",
       "      <td>1695</td>\n",
       "      <td>Comuna 10</td>\n",
       "      <td>Comuna</td>\n",
       "      <td>Comuna 10</td>\n",
       "      <td>022070</td>\n",
       "      <td>Direc. de Catastro</td>\n",
       "      <td>IGN</td>\n",
       "      <td>MULTIPOLYGON (((-58.48830 -34.62018, -58.48817...</td>\n",
       "      <td>POINT (-58.50281 -34.62784)</td>\n",
       "    </tr>\n",
       "    <tr>\n",
       "      <th>1749</th>\n",
       "      <td>1696</td>\n",
       "      <td>Comuna 11</td>\n",
       "      <td>Comuna</td>\n",
       "      <td>Comuna 11</td>\n",
       "      <td>022077</td>\n",
       "      <td>Direc. de Catastro</td>\n",
       "      <td>IGN</td>\n",
       "      <td>MULTIPOLYGON (((-58.49835 -34.59639, -58.49714...</td>\n",
       "      <td>POINT (-58.49684 -34.60610)</td>\n",
       "    </tr>\n",
       "    <tr>\n",
       "      <th>1757</th>\n",
       "      <td>1697</td>\n",
       "      <td>Comuna 15</td>\n",
       "      <td>Comuna</td>\n",
       "      <td>Comuna 15</td>\n",
       "      <td>022105</td>\n",
       "      <td>Direc. de Catastro</td>\n",
       "      <td>IGN</td>\n",
       "      <td>MULTIPOLYGON (((-58.46600 -34.57335, -58.46496...</td>\n",
       "      <td>POINT (-58.46277 -34.59188)</td>\n",
       "    </tr>\n",
       "    <tr>\n",
       "      <th>1758</th>\n",
       "      <td>1699</td>\n",
       "      <td>Comuna 14</td>\n",
       "      <td>Comuna</td>\n",
       "      <td>Comuna 14</td>\n",
       "      <td>022098</td>\n",
       "      <td>Direc. de Catastro</td>\n",
       "      <td>IGN</td>\n",
       "      <td>MULTIPOLYGON (((-58.42673 -34.55204, -58.42672...</td>\n",
       "      <td>POINT (-58.42229 -34.57387)</td>\n",
       "    </tr>\n",
       "    <tr>\n",
       "      <th>1768</th>\n",
       "      <td>1700</td>\n",
       "      <td>Comuna 2</td>\n",
       "      <td>Comuna</td>\n",
       "      <td>Comuna 2</td>\n",
       "      <td>022014</td>\n",
       "      <td>Direc. de Catastro</td>\n",
       "      <td>IGN</td>\n",
       "      <td>MULTIPOLYGON (((-58.38359 -34.57339, -58.38180...</td>\n",
       "      <td>POINT (-58.39490 -34.58579)</td>\n",
       "    </tr>\n",
       "    <tr>\n",
       "      <th>1770</th>\n",
       "      <td>1701</td>\n",
       "      <td>Comuna 8</td>\n",
       "      <td>Comuna</td>\n",
       "      <td>Comuna 8</td>\n",
       "      <td>022056</td>\n",
       "      <td>Direc. de Catastro</td>\n",
       "      <td>IGN</td>\n",
       "      <td>MULTIPOLYGON (((-58.44910 -34.65118, -58.44879...</td>\n",
       "      <td>POINT (-58.46187 -34.67452)</td>\n",
       "    </tr>\n",
       "    <tr>\n",
       "      <th>1771</th>\n",
       "      <td>1704</td>\n",
       "      <td>Comuna 6</td>\n",
       "      <td>Comuna</td>\n",
       "      <td>Comuna 6</td>\n",
       "      <td>022042</td>\n",
       "      <td>Direc. de Catastro</td>\n",
       "      <td>IGN</td>\n",
       "      <td>MULTIPOLYGON (((-58.43230 -34.60395, -58.43150...</td>\n",
       "      <td>POINT (-58.44357 -34.61684)</td>\n",
       "    </tr>\n",
       "    <tr>\n",
       "      <th>1772</th>\n",
       "      <td>1706</td>\n",
       "      <td>Comuna 4</td>\n",
       "      <td>Comuna</td>\n",
       "      <td>Comuna 4</td>\n",
       "      <td>022028</td>\n",
       "      <td>Direc. de Catastro</td>\n",
       "      <td>IGN</td>\n",
       "      <td>MULTIPOLYGON (((-58.35517 -34.61945, -58.35511...</td>\n",
       "      <td>POINT (-58.38762 -34.64210)</td>\n",
       "    </tr>\n",
       "    <tr>\n",
       "      <th>1775</th>\n",
       "      <td>1702</td>\n",
       "      <td>Comuna 9</td>\n",
       "      <td>Comuna</td>\n",
       "      <td>Comuna 9</td>\n",
       "      <td>022063</td>\n",
       "      <td>Direc. de Catastro</td>\n",
       "      <td>IGN</td>\n",
       "      <td>MULTIPOLYGON (((-58.51922 -34.63303, -58.51904...</td>\n",
       "      <td>POINT (-58.49900 -34.65175)</td>\n",
       "    </tr>\n",
       "    <tr>\n",
       "      <th>1777</th>\n",
       "      <td>1707</td>\n",
       "      <td>Comuna 5</td>\n",
       "      <td>Comuna</td>\n",
       "      <td>Comuna 5</td>\n",
       "      <td>022035</td>\n",
       "      <td>Direc. de Catastro</td>\n",
       "      <td>IGN</td>\n",
       "      <td>MULTIPOLYGON (((-58.42271 -34.59773, -58.42174...</td>\n",
       "      <td>POINT (-58.42057 -34.61737)</td>\n",
       "    </tr>\n",
       "    <tr>\n",
       "      <th>1778</th>\n",
       "      <td>1708</td>\n",
       "      <td>Comuna 12</td>\n",
       "      <td>Comuna</td>\n",
       "      <td>Comuna 12</td>\n",
       "      <td>022084</td>\n",
       "      <td>Direc. de Catastro</td>\n",
       "      <td>IGN</td>\n",
       "      <td>MULTIPOLYGON (((-58.46805 -34.57293, -58.46825...</td>\n",
       "      <td>POINT (-58.49047 -34.56632)</td>\n",
       "    </tr>\n",
       "  </tbody>\n",
       "</table>\n",
       "</div>"
      ],
      "text/plain": [
       "       gid        fna     gna        nam     in1                 fdc  sag  \\\n",
       "68    1698  Comuna 13  Comuna  Comuna 13  022091  Direc. de Catastro  IGN   \n",
       "69    1705   Comuna 1  Comuna   Comuna 1  022007  Direc. de Catastro  IGN   \n",
       "1725  1703   Comuna 3  Comuna   Comuna 3  022021  Direc. de Catastro  IGN   \n",
       "1735  1694   Comuna 7  Comuna   Comuna 7  022049  Direc. de Catastro  IGN   \n",
       "1742  1695  Comuna 10  Comuna  Comuna 10  022070  Direc. de Catastro  IGN   \n",
       "1749  1696  Comuna 11  Comuna  Comuna 11  022077  Direc. de Catastro  IGN   \n",
       "1757  1697  Comuna 15  Comuna  Comuna 15  022105  Direc. de Catastro  IGN   \n",
       "1758  1699  Comuna 14  Comuna  Comuna 14  022098  Direc. de Catastro  IGN   \n",
       "1768  1700   Comuna 2  Comuna   Comuna 2  022014  Direc. de Catastro  IGN   \n",
       "1770  1701   Comuna 8  Comuna   Comuna 8  022056  Direc. de Catastro  IGN   \n",
       "1771  1704   Comuna 6  Comuna   Comuna 6  022042  Direc. de Catastro  IGN   \n",
       "1772  1706   Comuna 4  Comuna   Comuna 4  022028  Direc. de Catastro  IGN   \n",
       "1775  1702   Comuna 9  Comuna   Comuna 9  022063  Direc. de Catastro  IGN   \n",
       "1777  1707   Comuna 5  Comuna   Comuna 5  022035  Direc. de Catastro  IGN   \n",
       "1778  1708  Comuna 12  Comuna  Comuna 12  022084  Direc. de Catastro  IGN   \n",
       "\n",
       "                                               geometry  \\\n",
       "68    MULTIPOLYGON (((-58.45535 -34.52776, -58.45404...   \n",
       "69    MULTIPOLYGON (((-58.38609 -34.57823, -58.38592...   \n",
       "1725  MULTIPOLYGON (((-58.41026 -34.59811, -58.40939...   \n",
       "1735  MULTIPOLYGON (((-58.45900 -34.61475, -58.45846...   \n",
       "1742  MULTIPOLYGON (((-58.48830 -34.62018, -58.48817...   \n",
       "1749  MULTIPOLYGON (((-58.49835 -34.59639, -58.49714...   \n",
       "1757  MULTIPOLYGON (((-58.46600 -34.57335, -58.46496...   \n",
       "1758  MULTIPOLYGON (((-58.42673 -34.55204, -58.42672...   \n",
       "1768  MULTIPOLYGON (((-58.38359 -34.57339, -58.38180...   \n",
       "1770  MULTIPOLYGON (((-58.44910 -34.65118, -58.44879...   \n",
       "1771  MULTIPOLYGON (((-58.43230 -34.60395, -58.43150...   \n",
       "1772  MULTIPOLYGON (((-58.35517 -34.61945, -58.35511...   \n",
       "1775  MULTIPOLYGON (((-58.51922 -34.63303, -58.51904...   \n",
       "1777  MULTIPOLYGON (((-58.42271 -34.59773, -58.42174...   \n",
       "1778  MULTIPOLYGON (((-58.46805 -34.57293, -58.46825...   \n",
       "\n",
       "                         centroid  \n",
       "68    POINT (-58.45396 -34.55418)  \n",
       "69    POINT (-58.37151 -34.60644)  \n",
       "1725  POINT (-58.40265 -34.61384)  \n",
       "1735  POINT (-58.45189 -34.63655)  \n",
       "1742  POINT (-58.50281 -34.62784)  \n",
       "1749  POINT (-58.49684 -34.60610)  \n",
       "1757  POINT (-58.46277 -34.59188)  \n",
       "1758  POINT (-58.42229 -34.57387)  \n",
       "1768  POINT (-58.39490 -34.58579)  \n",
       "1770  POINT (-58.46187 -34.67452)  \n",
       "1771  POINT (-58.44357 -34.61684)  \n",
       "1772  POINT (-58.38762 -34.64210)  \n",
       "1775  POINT (-58.49900 -34.65175)  \n",
       "1777  POINT (-58.42057 -34.61737)  \n",
       "1778  POINT (-58.49047 -34.56632)  "
      ]
     },
     "execution_count": 58,
     "metadata": {},
     "output_type": "execute_result"
    }
   ],
   "source": [
    "comunas_filtradas"
   ]
  },
  {
   "cell_type": "code",
   "execution_count": 59,
   "metadata": {},
   "outputs": [],
   "source": [
    "comunas_filtradas.to_csv('mapa_comunas.csv', index=False)"
   ]
  },
  {
   "cell_type": "markdown",
   "metadata": {},
   "source": [
    "notamos que corresponde con el mapa de comunas de Buenos Aires procederemos a añadirle la columna COMUNA al df_camaras"
   ]
  },
  {
   "cell_type": "code",
   "execution_count": 60,
   "metadata": {},
   "outputs": [],
   "source": [
    "gdf = gpd.GeoDataFrame(df_camaras, geometry=gpd.points_from_xy(df_camaras.Longitud, df_camaras.Latitud))"
   ]
  },
  {
   "cell_type": "code",
   "execution_count": 61,
   "metadata": {},
   "outputs": [],
   "source": [
    "gdf=gdf.set_crs(\"EPSG:4326\")"
   ]
  },
  {
   "cell_type": "code",
   "execution_count": 62,
   "metadata": {},
   "outputs": [
    {
     "data": {
      "text/html": [
       "<div>\n",
       "<style scoped>\n",
       "    .dataframe tbody tr th:only-of-type {\n",
       "        vertical-align: middle;\n",
       "    }\n",
       "\n",
       "    .dataframe tbody tr th {\n",
       "        vertical-align: top;\n",
       "    }\n",
       "\n",
       "    .dataframe thead th {\n",
       "        text-align: right;\n",
       "    }\n",
       "</style>\n",
       "<table border=\"1\" class=\"dataframe\">\n",
       "  <thead>\n",
       "    <tr style=\"text-align: right;\">\n",
       "      <th></th>\n",
       "      <th>Tipo de fiscalizador</th>\n",
       "      <th>Ubicación</th>\n",
       "      <th>Latitud</th>\n",
       "      <th>Longitud</th>\n",
       "      <th>Conducta fiscalizada</th>\n",
       "      <th>geometry</th>\n",
       "    </tr>\n",
       "  </thead>\n",
       "  <tbody>\n",
       "    <tr>\n",
       "      <th>0</th>\n",
       "      <td>Analítica de video</td>\n",
       "      <td>Av. Juan Bautista Alberdi 890</td>\n",
       "      <td>-34.622930</td>\n",
       "      <td>-58.440559</td>\n",
       "      <td>semáforo rojo, senda peatonal</td>\n",
       "      <td>POINT (-58.44056 -34.62293)</td>\n",
       "    </tr>\n",
       "    <tr>\n",
       "      <th>1</th>\n",
       "      <td>Analítica de video</td>\n",
       "      <td>Av. Juan B. Justo 3969</td>\n",
       "      <td>-34.604166</td>\n",
       "      <td>-58.458205</td>\n",
       "      <td>semáforo rojo, senda peatonal, Giro indebido</td>\n",
       "      <td>POINT (-58.45820 -34.60417)</td>\n",
       "    </tr>\n",
       "    <tr>\n",
       "      <th>2</th>\n",
       "      <td>Analítica de video</td>\n",
       "      <td>AV. Rivadavia 4987</td>\n",
       "      <td>-34.618095</td>\n",
       "      <td>-58.436090</td>\n",
       "      <td>semáforo rojo, senda peatonal</td>\n",
       "      <td>POINT (-58.43609 -34.61809)</td>\n",
       "    </tr>\n",
       "    <tr>\n",
       "      <th>3</th>\n",
       "      <td>Analítica de video</td>\n",
       "      <td>Bernardo de Yrigoyen 1026</td>\n",
       "      <td>-34.620115</td>\n",
       "      <td>-58.380142</td>\n",
       "      <td>semáforo rojo</td>\n",
       "      <td>POINT (-58.38014 -34.62011)</td>\n",
       "    </tr>\n",
       "    <tr>\n",
       "      <th>4</th>\n",
       "      <td>Analítica de video</td>\n",
       "      <td>Av. Cordoba 6287</td>\n",
       "      <td>-34.582832</td>\n",
       "      <td>-58.448598</td>\n",
       "      <td>semáforo rojo</td>\n",
       "      <td>POINT (-58.44860 -34.58283)</td>\n",
       "    </tr>\n",
       "    <tr>\n",
       "      <th>...</th>\n",
       "      <td>...</td>\n",
       "      <td>...</td>\n",
       "      <td>...</td>\n",
       "      <td>...</td>\n",
       "      <td>...</td>\n",
       "      <td>...</td>\n",
       "    </tr>\n",
       "    <tr>\n",
       "      <th>210</th>\n",
       "      <td>Cinemómetro</td>\n",
       "      <td>Av. Jorge Newbery 4733</td>\n",
       "      <td>-34.594573</td>\n",
       "      <td>-58.457205</td>\n",
       "      <td>Exceso de velocidad</td>\n",
       "      <td>POINT (-58.45721 -34.59457)</td>\n",
       "    </tr>\n",
       "    <tr>\n",
       "      <th>211</th>\n",
       "      <td>Cinemómetro</td>\n",
       "      <td>Av. Chiclana 3474</td>\n",
       "      <td>-34.636013</td>\n",
       "      <td>-58.413545</td>\n",
       "      <td>Exceso de velocidad</td>\n",
       "      <td>POINT (-58.41354 -34.63601)</td>\n",
       "    </tr>\n",
       "    <tr>\n",
       "      <th>212</th>\n",
       "      <td>Cinemómetro</td>\n",
       "      <td>Av. Honorio Pueyrredon 1815</td>\n",
       "      <td>-34.600777</td>\n",
       "      <td>-58.451289</td>\n",
       "      <td>Exceso de velocidad</td>\n",
       "      <td>POINT (-58.45129 -34.60078)</td>\n",
       "    </tr>\n",
       "    <tr>\n",
       "      <th>213</th>\n",
       "      <td>Cinemómetro</td>\n",
       "      <td>Av. Pedro Goyena 805</td>\n",
       "      <td>-34.626220</td>\n",
       "      <td>-58.439244</td>\n",
       "      <td>Exceso de velocidad</td>\n",
       "      <td>POINT (-58.43924 -34.62622)</td>\n",
       "    </tr>\n",
       "    <tr>\n",
       "      <th>214</th>\n",
       "      <td>Cinemómetro</td>\n",
       "      <td>Av. Elcano 4510</td>\n",
       "      <td>-34.588939</td>\n",
       "      <td>-58.464781</td>\n",
       "      <td>Exceso de velocidad</td>\n",
       "      <td>POINT (-58.46478 -34.58894)</td>\n",
       "    </tr>\n",
       "  </tbody>\n",
       "</table>\n",
       "<p>215 rows × 6 columns</p>\n",
       "</div>"
      ],
      "text/plain": [
       "    Tipo de fiscalizador                      Ubicación    Latitud   Longitud  \\\n",
       "0     Analítica de video  Av. Juan Bautista Alberdi 890 -34.622930 -58.440559   \n",
       "1     Analítica de video         Av. Juan B. Justo 3969 -34.604166 -58.458205   \n",
       "2     Analítica de video             AV. Rivadavia 4987 -34.618095 -58.436090   \n",
       "3     Analítica de video      Bernardo de Yrigoyen 1026 -34.620115 -58.380142   \n",
       "4     Analítica de video               Av. Cordoba 6287 -34.582832 -58.448598   \n",
       "..                   ...                            ...        ...        ...   \n",
       "210          Cinemómetro         Av. Jorge Newbery 4733 -34.594573 -58.457205   \n",
       "211          Cinemómetro              Av. Chiclana 3474 -34.636013 -58.413545   \n",
       "212          Cinemómetro    Av. Honorio Pueyrredon 1815 -34.600777 -58.451289   \n",
       "213          Cinemómetro           Av. Pedro Goyena 805 -34.626220 -58.439244   \n",
       "214          Cinemómetro                Av. Elcano 4510 -34.588939 -58.464781   \n",
       "\n",
       "                             Conducta fiscalizada                     geometry  \n",
       "0                   semáforo rojo, senda peatonal  POINT (-58.44056 -34.62293)  \n",
       "1    semáforo rojo, senda peatonal, Giro indebido  POINT (-58.45820 -34.60417)  \n",
       "2                   semáforo rojo, senda peatonal  POINT (-58.43609 -34.61809)  \n",
       "3                                   semáforo rojo  POINT (-58.38014 -34.62011)  \n",
       "4                                   semáforo rojo  POINT (-58.44860 -34.58283)  \n",
       "..                                            ...                          ...  \n",
       "210                           Exceso de velocidad  POINT (-58.45721 -34.59457)  \n",
       "211                           Exceso de velocidad  POINT (-58.41354 -34.63601)  \n",
       "212                           Exceso de velocidad  POINT (-58.45129 -34.60078)  \n",
       "213                           Exceso de velocidad  POINT (-58.43924 -34.62622)  \n",
       "214                           Exceso de velocidad  POINT (-58.46478 -34.58894)  \n",
       "\n",
       "[215 rows x 6 columns]"
      ]
     },
     "execution_count": 62,
     "metadata": {},
     "output_type": "execute_result"
    }
   ],
   "source": [
    "gdf"
   ]
  },
  {
   "cell_type": "code",
   "execution_count": 63,
   "metadata": {},
   "outputs": [
    {
     "data": {
      "text/html": [
       "<div>\n",
       "<style scoped>\n",
       "    .dataframe tbody tr th:only-of-type {\n",
       "        vertical-align: middle;\n",
       "    }\n",
       "\n",
       "    .dataframe tbody tr th {\n",
       "        vertical-align: top;\n",
       "    }\n",
       "\n",
       "    .dataframe thead th {\n",
       "        text-align: right;\n",
       "    }\n",
       "</style>\n",
       "<table border=\"1\" class=\"dataframe\">\n",
       "  <thead>\n",
       "    <tr style=\"text-align: right;\">\n",
       "      <th></th>\n",
       "      <th>gid</th>\n",
       "      <th>fna</th>\n",
       "      <th>gna</th>\n",
       "      <th>nam</th>\n",
       "      <th>in1</th>\n",
       "      <th>fdc</th>\n",
       "      <th>sag</th>\n",
       "      <th>geometry</th>\n",
       "      <th>centroid</th>\n",
       "    </tr>\n",
       "  </thead>\n",
       "  <tbody>\n",
       "    <tr>\n",
       "      <th>68</th>\n",
       "      <td>1698</td>\n",
       "      <td>Comuna 13</td>\n",
       "      <td>Comuna</td>\n",
       "      <td>Comuna 13</td>\n",
       "      <td>022091</td>\n",
       "      <td>Direc. de Catastro</td>\n",
       "      <td>IGN</td>\n",
       "      <td>MULTIPOLYGON (((-58.45535 -34.52776, -58.45404...</td>\n",
       "      <td>POINT (-58.45396 -34.55418)</td>\n",
       "    </tr>\n",
       "    <tr>\n",
       "      <th>69</th>\n",
       "      <td>1705</td>\n",
       "      <td>Comuna 1</td>\n",
       "      <td>Comuna</td>\n",
       "      <td>Comuna 1</td>\n",
       "      <td>022007</td>\n",
       "      <td>Direc. de Catastro</td>\n",
       "      <td>IGN</td>\n",
       "      <td>MULTIPOLYGON (((-58.38609 -34.57823, -58.38592...</td>\n",
       "      <td>POINT (-58.37151 -34.60644)</td>\n",
       "    </tr>\n",
       "    <tr>\n",
       "      <th>1725</th>\n",
       "      <td>1703</td>\n",
       "      <td>Comuna 3</td>\n",
       "      <td>Comuna</td>\n",
       "      <td>Comuna 3</td>\n",
       "      <td>022021</td>\n",
       "      <td>Direc. de Catastro</td>\n",
       "      <td>IGN</td>\n",
       "      <td>MULTIPOLYGON (((-58.41026 -34.59811, -58.40939...</td>\n",
       "      <td>POINT (-58.40265 -34.61384)</td>\n",
       "    </tr>\n",
       "    <tr>\n",
       "      <th>1735</th>\n",
       "      <td>1694</td>\n",
       "      <td>Comuna 7</td>\n",
       "      <td>Comuna</td>\n",
       "      <td>Comuna 7</td>\n",
       "      <td>022049</td>\n",
       "      <td>Direc. de Catastro</td>\n",
       "      <td>IGN</td>\n",
       "      <td>MULTIPOLYGON (((-58.45900 -34.61475, -58.45846...</td>\n",
       "      <td>POINT (-58.45189 -34.63655)</td>\n",
       "    </tr>\n",
       "    <tr>\n",
       "      <th>1742</th>\n",
       "      <td>1695</td>\n",
       "      <td>Comuna 10</td>\n",
       "      <td>Comuna</td>\n",
       "      <td>Comuna 10</td>\n",
       "      <td>022070</td>\n",
       "      <td>Direc. de Catastro</td>\n",
       "      <td>IGN</td>\n",
       "      <td>MULTIPOLYGON (((-58.48830 -34.62018, -58.48817...</td>\n",
       "      <td>POINT (-58.50281 -34.62784)</td>\n",
       "    </tr>\n",
       "    <tr>\n",
       "      <th>1749</th>\n",
       "      <td>1696</td>\n",
       "      <td>Comuna 11</td>\n",
       "      <td>Comuna</td>\n",
       "      <td>Comuna 11</td>\n",
       "      <td>022077</td>\n",
       "      <td>Direc. de Catastro</td>\n",
       "      <td>IGN</td>\n",
       "      <td>MULTIPOLYGON (((-58.49835 -34.59639, -58.49714...</td>\n",
       "      <td>POINT (-58.49684 -34.60610)</td>\n",
       "    </tr>\n",
       "    <tr>\n",
       "      <th>1757</th>\n",
       "      <td>1697</td>\n",
       "      <td>Comuna 15</td>\n",
       "      <td>Comuna</td>\n",
       "      <td>Comuna 15</td>\n",
       "      <td>022105</td>\n",
       "      <td>Direc. de Catastro</td>\n",
       "      <td>IGN</td>\n",
       "      <td>MULTIPOLYGON (((-58.46600 -34.57335, -58.46496...</td>\n",
       "      <td>POINT (-58.46277 -34.59188)</td>\n",
       "    </tr>\n",
       "    <tr>\n",
       "      <th>1758</th>\n",
       "      <td>1699</td>\n",
       "      <td>Comuna 14</td>\n",
       "      <td>Comuna</td>\n",
       "      <td>Comuna 14</td>\n",
       "      <td>022098</td>\n",
       "      <td>Direc. de Catastro</td>\n",
       "      <td>IGN</td>\n",
       "      <td>MULTIPOLYGON (((-58.42673 -34.55204, -58.42672...</td>\n",
       "      <td>POINT (-58.42229 -34.57387)</td>\n",
       "    </tr>\n",
       "    <tr>\n",
       "      <th>1768</th>\n",
       "      <td>1700</td>\n",
       "      <td>Comuna 2</td>\n",
       "      <td>Comuna</td>\n",
       "      <td>Comuna 2</td>\n",
       "      <td>022014</td>\n",
       "      <td>Direc. de Catastro</td>\n",
       "      <td>IGN</td>\n",
       "      <td>MULTIPOLYGON (((-58.38359 -34.57339, -58.38180...</td>\n",
       "      <td>POINT (-58.39490 -34.58579)</td>\n",
       "    </tr>\n",
       "    <tr>\n",
       "      <th>1770</th>\n",
       "      <td>1701</td>\n",
       "      <td>Comuna 8</td>\n",
       "      <td>Comuna</td>\n",
       "      <td>Comuna 8</td>\n",
       "      <td>022056</td>\n",
       "      <td>Direc. de Catastro</td>\n",
       "      <td>IGN</td>\n",
       "      <td>MULTIPOLYGON (((-58.44910 -34.65118, -58.44879...</td>\n",
       "      <td>POINT (-58.46187 -34.67452)</td>\n",
       "    </tr>\n",
       "    <tr>\n",
       "      <th>1771</th>\n",
       "      <td>1704</td>\n",
       "      <td>Comuna 6</td>\n",
       "      <td>Comuna</td>\n",
       "      <td>Comuna 6</td>\n",
       "      <td>022042</td>\n",
       "      <td>Direc. de Catastro</td>\n",
       "      <td>IGN</td>\n",
       "      <td>MULTIPOLYGON (((-58.43230 -34.60395, -58.43150...</td>\n",
       "      <td>POINT (-58.44357 -34.61684)</td>\n",
       "    </tr>\n",
       "    <tr>\n",
       "      <th>1772</th>\n",
       "      <td>1706</td>\n",
       "      <td>Comuna 4</td>\n",
       "      <td>Comuna</td>\n",
       "      <td>Comuna 4</td>\n",
       "      <td>022028</td>\n",
       "      <td>Direc. de Catastro</td>\n",
       "      <td>IGN</td>\n",
       "      <td>MULTIPOLYGON (((-58.35517 -34.61945, -58.35511...</td>\n",
       "      <td>POINT (-58.38762 -34.64210)</td>\n",
       "    </tr>\n",
       "    <tr>\n",
       "      <th>1775</th>\n",
       "      <td>1702</td>\n",
       "      <td>Comuna 9</td>\n",
       "      <td>Comuna</td>\n",
       "      <td>Comuna 9</td>\n",
       "      <td>022063</td>\n",
       "      <td>Direc. de Catastro</td>\n",
       "      <td>IGN</td>\n",
       "      <td>MULTIPOLYGON (((-58.51922 -34.63303, -58.51904...</td>\n",
       "      <td>POINT (-58.49900 -34.65175)</td>\n",
       "    </tr>\n",
       "    <tr>\n",
       "      <th>1777</th>\n",
       "      <td>1707</td>\n",
       "      <td>Comuna 5</td>\n",
       "      <td>Comuna</td>\n",
       "      <td>Comuna 5</td>\n",
       "      <td>022035</td>\n",
       "      <td>Direc. de Catastro</td>\n",
       "      <td>IGN</td>\n",
       "      <td>MULTIPOLYGON (((-58.42271 -34.59773, -58.42174...</td>\n",
       "      <td>POINT (-58.42057 -34.61737)</td>\n",
       "    </tr>\n",
       "    <tr>\n",
       "      <th>1778</th>\n",
       "      <td>1708</td>\n",
       "      <td>Comuna 12</td>\n",
       "      <td>Comuna</td>\n",
       "      <td>Comuna 12</td>\n",
       "      <td>022084</td>\n",
       "      <td>Direc. de Catastro</td>\n",
       "      <td>IGN</td>\n",
       "      <td>MULTIPOLYGON (((-58.46805 -34.57293, -58.46825...</td>\n",
       "      <td>POINT (-58.49047 -34.56632)</td>\n",
       "    </tr>\n",
       "  </tbody>\n",
       "</table>\n",
       "</div>"
      ],
      "text/plain": [
       "       gid        fna     gna        nam     in1                 fdc  sag  \\\n",
       "68    1698  Comuna 13  Comuna  Comuna 13  022091  Direc. de Catastro  IGN   \n",
       "69    1705   Comuna 1  Comuna   Comuna 1  022007  Direc. de Catastro  IGN   \n",
       "1725  1703   Comuna 3  Comuna   Comuna 3  022021  Direc. de Catastro  IGN   \n",
       "1735  1694   Comuna 7  Comuna   Comuna 7  022049  Direc. de Catastro  IGN   \n",
       "1742  1695  Comuna 10  Comuna  Comuna 10  022070  Direc. de Catastro  IGN   \n",
       "1749  1696  Comuna 11  Comuna  Comuna 11  022077  Direc. de Catastro  IGN   \n",
       "1757  1697  Comuna 15  Comuna  Comuna 15  022105  Direc. de Catastro  IGN   \n",
       "1758  1699  Comuna 14  Comuna  Comuna 14  022098  Direc. de Catastro  IGN   \n",
       "1768  1700   Comuna 2  Comuna   Comuna 2  022014  Direc. de Catastro  IGN   \n",
       "1770  1701   Comuna 8  Comuna   Comuna 8  022056  Direc. de Catastro  IGN   \n",
       "1771  1704   Comuna 6  Comuna   Comuna 6  022042  Direc. de Catastro  IGN   \n",
       "1772  1706   Comuna 4  Comuna   Comuna 4  022028  Direc. de Catastro  IGN   \n",
       "1775  1702   Comuna 9  Comuna   Comuna 9  022063  Direc. de Catastro  IGN   \n",
       "1777  1707   Comuna 5  Comuna   Comuna 5  022035  Direc. de Catastro  IGN   \n",
       "1778  1708  Comuna 12  Comuna  Comuna 12  022084  Direc. de Catastro  IGN   \n",
       "\n",
       "                                               geometry  \\\n",
       "68    MULTIPOLYGON (((-58.45535 -34.52776, -58.45404...   \n",
       "69    MULTIPOLYGON (((-58.38609 -34.57823, -58.38592...   \n",
       "1725  MULTIPOLYGON (((-58.41026 -34.59811, -58.40939...   \n",
       "1735  MULTIPOLYGON (((-58.45900 -34.61475, -58.45846...   \n",
       "1742  MULTIPOLYGON (((-58.48830 -34.62018, -58.48817...   \n",
       "1749  MULTIPOLYGON (((-58.49835 -34.59639, -58.49714...   \n",
       "1757  MULTIPOLYGON (((-58.46600 -34.57335, -58.46496...   \n",
       "1758  MULTIPOLYGON (((-58.42673 -34.55204, -58.42672...   \n",
       "1768  MULTIPOLYGON (((-58.38359 -34.57339, -58.38180...   \n",
       "1770  MULTIPOLYGON (((-58.44910 -34.65118, -58.44879...   \n",
       "1771  MULTIPOLYGON (((-58.43230 -34.60395, -58.43150...   \n",
       "1772  MULTIPOLYGON (((-58.35517 -34.61945, -58.35511...   \n",
       "1775  MULTIPOLYGON (((-58.51922 -34.63303, -58.51904...   \n",
       "1777  MULTIPOLYGON (((-58.42271 -34.59773, -58.42174...   \n",
       "1778  MULTIPOLYGON (((-58.46805 -34.57293, -58.46825...   \n",
       "\n",
       "                         centroid  \n",
       "68    POINT (-58.45396 -34.55418)  \n",
       "69    POINT (-58.37151 -34.60644)  \n",
       "1725  POINT (-58.40265 -34.61384)  \n",
       "1735  POINT (-58.45189 -34.63655)  \n",
       "1742  POINT (-58.50281 -34.62784)  \n",
       "1749  POINT (-58.49684 -34.60610)  \n",
       "1757  POINT (-58.46277 -34.59188)  \n",
       "1758  POINT (-58.42229 -34.57387)  \n",
       "1768  POINT (-58.39490 -34.58579)  \n",
       "1770  POINT (-58.46187 -34.67452)  \n",
       "1771  POINT (-58.44357 -34.61684)  \n",
       "1772  POINT (-58.38762 -34.64210)  \n",
       "1775  POINT (-58.49900 -34.65175)  \n",
       "1777  POINT (-58.42057 -34.61737)  \n",
       "1778  POINT (-58.49047 -34.56632)  "
      ]
     },
     "execution_count": 63,
     "metadata": {},
     "output_type": "execute_result"
    }
   ],
   "source": [
    "comunas_filtradas"
   ]
  },
  {
   "cell_type": "markdown",
   "metadata": {},
   "source": [
    "#### Este archivo con la informacion geoespacial de las comunas de Buenos Aires será muy útil para la elaboracion del dashboard por esa razon decido volver a guardarlo. "
   ]
  },
  {
   "cell_type": "code",
   "execution_count": 68,
   "metadata": {},
   "outputs": [
    {
     "name": "stderr",
     "output_type": "stream",
     "text": [
      "C:\\Users\\ememp\\AppData\\Local\\Temp\\ipykernel_15348\\3182289968.py:2: SettingWithCopyWarning: \n",
      "A value is trying to be set on a copy of a slice from a DataFrame\n",
      "\n",
      "See the caveats in the documentation: https://pandas.pydata.org/pandas-docs/stable/user_guide/indexing.html#returning-a-view-versus-a-copy\n",
      "  comunas.rename(columns={'nam':'COMUNA'}, inplace=True)\n"
     ]
    }
   ],
   "source": [
    "comunas=comunas_filtradas[['geometry','nam']]\n",
    "comunas.rename(columns={'nam':'COMUNA'}, inplace=True)\n",
    "\n",
    "\n",
    "# Mantén solo las columnas 'geometry' y 'nam'\n",
    "comunas = comunas[['geometry', 'COMUNA']]\n",
    "comunas['COMUNA'] = comunas['COMUNA'].str.replace('Comuna', '').str.strip()\n",
    "\n",
    "# Creamos un GeoDataFrame\n",
    "gdf = gpd.GeoDataFrame(comunas, geometry='geometry')\n",
    "\n",
    "# Guardamos el GeoDataFrame como GeoJSON\n",
    "gdf.to_file('Recursos_dashboard\\comunas_buenos_aires.json', driver='GeoJSON')\n"
   ]
  },
  {
   "cell_type": "code",
   "execution_count": 69,
   "metadata": {},
   "outputs": [],
   "source": [
    "camaras_con_comunas = gpd.sjoin(gdf, comunas_filtradas, predicate='within')"
   ]
  },
  {
   "cell_type": "code",
   "execution_count": null,
   "metadata": {},
   "outputs": [],
   "source": [
    "print(camaras_con_comunas.columns)\n",
    "\n",
    "\n",
    "camaras_con_comunas = camaras_con_comunas[['Tipo de fiscalizador','Ubicación','Conducta fiscalizada','Latitud','Longitud','geometry','nam']]\n"
   ]
  },
  {
   "cell_type": "code",
   "execution_count": 71,
   "metadata": {},
   "outputs": [
    {
     "data": {
      "text/plain": [
       "15"
      ]
     },
     "execution_count": 71,
     "metadata": {},
     "output_type": "execute_result"
    }
   ],
   "source": [
    "len(camaras_con_comunas['nam'].unique())"
   ]
  },
  {
   "cell_type": "code",
   "execution_count": 77,
   "metadata": {},
   "outputs": [
    {
     "data": {
      "text/html": [
       "<div>\n",
       "<style scoped>\n",
       "    .dataframe tbody tr th:only-of-type {\n",
       "        vertical-align: middle;\n",
       "    }\n",
       "\n",
       "    .dataframe tbody tr th {\n",
       "        vertical-align: top;\n",
       "    }\n",
       "\n",
       "    .dataframe thead th {\n",
       "        text-align: right;\n",
       "    }\n",
       "</style>\n",
       "<table border=\"1\" class=\"dataframe\">\n",
       "  <thead>\n",
       "    <tr style=\"text-align: right;\">\n",
       "      <th></th>\n",
       "      <th>geometry</th>\n",
       "      <th>COMUNA</th>\n",
       "      <th>index_right</th>\n",
       "      <th>gid</th>\n",
       "      <th>fna</th>\n",
       "      <th>gna</th>\n",
       "      <th>nam</th>\n",
       "      <th>in1</th>\n",
       "      <th>fdc</th>\n",
       "      <th>sag</th>\n",
       "      <th>centroid</th>\n",
       "    </tr>\n",
       "  </thead>\n",
       "  <tbody>\n",
       "    <tr>\n",
       "      <th>1772</th>\n",
       "      <td>MULTIPOLYGON (((-58.35517 -34.61945, -58.35511...</td>\n",
       "      <td>4</td>\n",
       "      <td>1772</td>\n",
       "      <td>1706</td>\n",
       "      <td>Comuna 4</td>\n",
       "      <td>Comuna</td>\n",
       "      <td>Comuna 4</td>\n",
       "      <td>022028</td>\n",
       "      <td>Direc. de Catastro</td>\n",
       "      <td>IGN</td>\n",
       "      <td>POINT (-58.38762 -34.64210)</td>\n",
       "    </tr>\n",
       "    <tr>\n",
       "      <th>1770</th>\n",
       "      <td>MULTIPOLYGON (((-58.44910 -34.65118, -58.44879...</td>\n",
       "      <td>8</td>\n",
       "      <td>1770</td>\n",
       "      <td>1701</td>\n",
       "      <td>Comuna 8</td>\n",
       "      <td>Comuna</td>\n",
       "      <td>Comuna 8</td>\n",
       "      <td>022056</td>\n",
       "      <td>Direc. de Catastro</td>\n",
       "      <td>IGN</td>\n",
       "      <td>POINT (-58.46187 -34.67452)</td>\n",
       "    </tr>\n",
       "    <tr>\n",
       "      <th>1735</th>\n",
       "      <td>MULTIPOLYGON (((-58.45900 -34.61475, -58.45846...</td>\n",
       "      <td>7</td>\n",
       "      <td>1735</td>\n",
       "      <td>1694</td>\n",
       "      <td>Comuna 7</td>\n",
       "      <td>Comuna</td>\n",
       "      <td>Comuna 7</td>\n",
       "      <td>022049</td>\n",
       "      <td>Direc. de Catastro</td>\n",
       "      <td>IGN</td>\n",
       "      <td>POINT (-58.45189 -34.63655)</td>\n",
       "    </tr>\n",
       "    <tr>\n",
       "      <th>69</th>\n",
       "      <td>MULTIPOLYGON (((-58.38609 -34.57823, -58.38592...</td>\n",
       "      <td>1</td>\n",
       "      <td>69</td>\n",
       "      <td>1705</td>\n",
       "      <td>Comuna 1</td>\n",
       "      <td>Comuna</td>\n",
       "      <td>Comuna 1</td>\n",
       "      <td>022007</td>\n",
       "      <td>Direc. de Catastro</td>\n",
       "      <td>IGN</td>\n",
       "      <td>POINT (-58.37151 -34.60644)</td>\n",
       "    </tr>\n",
       "    <tr>\n",
       "      <th>1758</th>\n",
       "      <td>MULTIPOLYGON (((-58.42673 -34.55204, -58.42672...</td>\n",
       "      <td>14</td>\n",
       "      <td>1758</td>\n",
       "      <td>1699</td>\n",
       "      <td>Comuna 14</td>\n",
       "      <td>Comuna</td>\n",
       "      <td>Comuna 14</td>\n",
       "      <td>022098</td>\n",
       "      <td>Direc. de Catastro</td>\n",
       "      <td>IGN</td>\n",
       "      <td>POINT (-58.42229 -34.57387)</td>\n",
       "    </tr>\n",
       "  </tbody>\n",
       "</table>\n",
       "</div>"
      ],
      "text/plain": [
       "                                               geometry COMUNA  index_right  \\\n",
       "1772  MULTIPOLYGON (((-58.35517 -34.61945, -58.35511...      4         1772   \n",
       "1770  MULTIPOLYGON (((-58.44910 -34.65118, -58.44879...      8         1770   \n",
       "1735  MULTIPOLYGON (((-58.45900 -34.61475, -58.45846...      7         1735   \n",
       "69    MULTIPOLYGON (((-58.38609 -34.57823, -58.38592...      1           69   \n",
       "1758  MULTIPOLYGON (((-58.42673 -34.55204, -58.42672...     14         1758   \n",
       "\n",
       "       gid        fna     gna        nam     in1                 fdc  sag  \\\n",
       "1772  1706   Comuna 4  Comuna   Comuna 4  022028  Direc. de Catastro  IGN   \n",
       "1770  1701   Comuna 8  Comuna   Comuna 8  022056  Direc. de Catastro  IGN   \n",
       "1735  1694   Comuna 7  Comuna   Comuna 7  022049  Direc. de Catastro  IGN   \n",
       "69    1705   Comuna 1  Comuna   Comuna 1  022007  Direc. de Catastro  IGN   \n",
       "1758  1699  Comuna 14  Comuna  Comuna 14  022098  Direc. de Catastro  IGN   \n",
       "\n",
       "                         centroid  \n",
       "1772  POINT (-58.38762 -34.64210)  \n",
       "1770  POINT (-58.46187 -34.67452)  \n",
       "1735  POINT (-58.45189 -34.63655)  \n",
       "69    POINT (-58.37151 -34.60644)  \n",
       "1758  POINT (-58.42229 -34.57387)  "
      ]
     },
     "execution_count": 77,
     "metadata": {},
     "output_type": "execute_result"
    }
   ],
   "source": [
    "camaras_con_comunas.sample(5)"
   ]
  },
  {
   "cell_type": "markdown",
   "metadata": {},
   "source": [
    "renombramos la columna nam y eliminamos la palabra comuna de todos los registros"
   ]
  },
  {
   "cell_type": "code",
   "execution_count": 89,
   "metadata": {},
   "outputs": [],
   "source": [
    "camaras_con_comunas.rename(columns={'nam':'COMUNA'}, inplace=True)"
   ]
  },
  {
   "cell_type": "code",
   "execution_count": null,
   "metadata": {},
   "outputs": [],
   "source": [
    "camaras_con_comunas['COMUNA'] = camaras_con_comunas['COMUNA'].str.replace('Comuna', '').str.strip()"
   ]
  },
  {
   "cell_type": "code",
   "execution_count": 85,
   "metadata": {},
   "outputs": [
    {
     "data": {
      "text/html": [
       "<div>\n",
       "<style scoped>\n",
       "    .dataframe tbody tr th:only-of-type {\n",
       "        vertical-align: middle;\n",
       "    }\n",
       "\n",
       "    .dataframe tbody tr th {\n",
       "        vertical-align: top;\n",
       "    }\n",
       "\n",
       "    .dataframe thead th {\n",
       "        text-align: right;\n",
       "    }\n",
       "</style>\n",
       "<table border=\"1\" class=\"dataframe\">\n",
       "  <thead>\n",
       "    <tr style=\"text-align: right;\">\n",
       "      <th></th>\n",
       "      <th>geometry</th>\n",
       "      <th>COMUNA</th>\n",
       "      <th>index_right</th>\n",
       "      <th>gid</th>\n",
       "      <th>fna</th>\n",
       "      <th>gna</th>\n",
       "      <th>COMUNA</th>\n",
       "      <th>in1</th>\n",
       "      <th>fdc</th>\n",
       "      <th>sag</th>\n",
       "      <th>centroid</th>\n",
       "    </tr>\n",
       "  </thead>\n",
       "  <tbody>\n",
       "    <tr>\n",
       "      <th>69</th>\n",
       "      <td>MULTIPOLYGON (((-58.38609 -34.57823, -58.38592...</td>\n",
       "      <td>1</td>\n",
       "      <td>69</td>\n",
       "      <td>1705</td>\n",
       "      <td>Comuna 1</td>\n",
       "      <td>Comuna</td>\n",
       "      <td>Comuna 1</td>\n",
       "      <td>022007</td>\n",
       "      <td>Direc. de Catastro</td>\n",
       "      <td>IGN</td>\n",
       "      <td>POINT (-58.37151 -34.60644)</td>\n",
       "    </tr>\n",
       "  </tbody>\n",
       "</table>\n",
       "</div>"
      ],
      "text/plain": [
       "                                             geometry COMUNA  index_right  \\\n",
       "69  MULTIPOLYGON (((-58.38609 -34.57823, -58.38592...      1           69   \n",
       "\n",
       "     gid       fna     gna    COMUNA     in1                 fdc  sag  \\\n",
       "69  1705  Comuna 1  Comuna  Comuna 1  022007  Direc. de Catastro  IGN   \n",
       "\n",
       "                       centroid  \n",
       "69  POINT (-58.37151 -34.60644)  "
      ]
     },
     "execution_count": 85,
     "metadata": {},
     "output_type": "execute_result"
    }
   ],
   "source": [
    "camaras_con_comunas.sample()"
   ]
  },
  {
   "cell_type": "code",
   "execution_count": 87,
   "metadata": {},
   "outputs": [],
   "source": [
    "camaras_con_comunas.to_csv('Datasets/Datos_camaras.csv', index=False)"
   ]
  },
  {
   "cell_type": "markdown",
   "metadata": {},
   "source": [
    "## Relacion entre las comunas y el tipo de fiscalizador"
   ]
  },
  {
   "cell_type": "code",
   "execution_count": null,
   "metadata": {},
   "outputs": [],
   "source": [
    "pivot_df = camaras_con_comunas.pivot_table(index='COMUNA', columns='Tipo de fiscalizador', aggfunc='size', fill_value=0)\n",
    "pivot_df.plot(kind='bar', stacked=True, cmap='tab20')\n",
    "plt.title('Relación entre Comuna y Tipo de Fiscalizador')\n",
    "plt.xlabel('Comuna')\n",
    "plt.ylabel('Cantidad')\n",
    "plt.xticks(rotation=0)\n",
    "plt.legend(title='Tipo de Fiscalizador', bbox_to_anchor=(1.05, 1), loc='upper left')\n",
    "plt.show()"
   ]
  },
  {
   "cell_type": "markdown",
   "metadata": {},
   "source": [
    "vemos que la comuna con mayor cantidad de cinemometros es la 13 lo que parece ser relevante ya que esta comuna no reporta gran cantidad de homicidios si se le compara con la 1"
   ]
  },
  {
   "cell_type": "markdown",
   "metadata": {},
   "source": [
    "## Relacion AAAA - N_VICTIMAS"
   ]
  },
  {
   "cell_type": "code",
   "execution_count": null,
   "metadata": {},
   "outputs": [
    {
     "data": {
      "text/plain": [
       "<Axes: xlabel='AAAA'>"
      ]
     },
     "execution_count": 34,
     "metadata": {},
     "output_type": "execute_result"
    },
    {
     "data": {
      "image/png": "[encoded data removed]",
      "text/plain": [
       "<Figure size 640x480 with 1 Axes>"
      ]
     },
     "metadata": {},
     "output_type": "display_data"
    }
   ],
   "source": [
    "victimas_por_fecha = combinado.groupby('AAAA')['N_VICTIMAS'].count().reset_index()\n",
    "victimas_por_fecha=victimas_por_fecha.set_index('AAAA')\n",
    "victimas_por_fecha.plot()"
   ]
  },
  {
   "cell_type": "markdown",
   "metadata": {},
   "source": [
    "se observa un minimo relativo en el año 2020 lo que se le podria abjudicar al aislamiento producido por la pandemia de covid 19 sin embargo la tendencia bajista parece provenir de años anteriores a la pandemia alcanzandose el minimo en el 2020"
   ]
  },
  {
   "cell_type": "markdown",
   "metadata": {},
   "source": [
    "## Relacion COMUNA - N_VICTIMAS"
   ]
  },
  {
   "cell_type": "code",
   "execution_count": null,
   "metadata": {},
   "outputs": [
    {
     "data": {
      "image/png": "[encoded data removed]",
      "text/plain": [
       "<Figure size 1200x600 with 1 Axes>"
      ]
     },
     "metadata": {},
     "output_type": "display_data"
    }
   ],
   "source": [
    "victimas_por_comuna = combinado.groupby('COMUNA')['N_VICTIMAS'].sum().reset_index()\n",
    "plt.figure(figsize=(12, 6))\n",
    "plt.bar(victimas_por_comuna['COMUNA'], victimas_por_comuna['N_VICTIMAS'], color='blue')\n",
    "plt.title('Número de Víctimas por Comuna')\n",
    "plt.xlabel('Comuna')\n",
    "plt.ylabel('Número de Víctimas')\n",
    "plt.show()"
   ]
  },
  {
   "cell_type": "markdown",
   "metadata": {},
   "source": [
    "Se observa la comuna 1 como la que tiene la mayor cantidad de victimas. Las razones de esto seran objeto de estudio "
   ]
  },
  {
   "cell_type": "markdown",
   "metadata": {},
   "source": [
    "## Relacion SEXO-N_VICTIMAS"
   ]
  },
  {
   "cell_type": "code",
   "execution_count": null,
   "metadata": {},
   "outputs": [
    {
     "data": {
      "image/png": "[encoded data removed]",
      "text/plain": [
       "<Figure size 1000x500 with 1 Axes>"
      ]
     },
     "metadata": {},
     "output_type": "display_data"
    }
   ],
   "source": [
    "victimas_por_sexo = combinado.groupby('SEXO')['VICTIMA'].count().reset_index()\n",
    "\n",
    "\n",
    "plt.figure(figsize=(10, 5))  \n",
    "plt.bar(victimas_por_sexo['SEXO'], victimas_por_sexo['VICTIMA'], color='blue')\n",
    "plt.title('Relación entre el Sexo de las Víctimas y el Número de Víctimas')\n",
    "plt.xlabel('Sexo')\n",
    "plt.ylabel('Número de Víctimas')\n",
    "plt.grid(axis='y')\n",
    "\n",
    "\n",
    "plt.show()"
   ]
  },
  {
   "cell_type": "markdown",
   "metadata": {},
   "source": [
    "Se observa como principal poblacion victima de siniestros viales a los pertenecientes al sexo masculino. En principio podria deberse al porcentaje de conductores pertenecientes a cada sexo"
   ]
  },
  {
   "cell_type": "markdown",
   "metadata": {},
   "source": [
    "## Frecuencia de ocurrencia de los valores de la columna EDAD"
   ]
  },
  {
   "cell_type": "code",
   "execution_count": 92,
   "metadata": {},
   "outputs": [
    {
     "name": "stderr",
     "output_type": "stream",
     "text": [
      "c:\\Users\\ememp\\AppData\\Local\\Programs\\Python\\Python311\\Lib\\site-packages\\numpy\\lib\\histograms.py:824: RuntimeWarning: invalid value encountered in greater_equal\n",
      "  keep = (tmp_a >= first_edge)\n",
      "c:\\Users\\ememp\\AppData\\Local\\Programs\\Python\\Python311\\Lib\\site-packages\\numpy\\lib\\histograms.py:825: RuntimeWarning: invalid value encountered in less_equal\n",
      "  keep &= (tmp_a <= last_edge)\n"
     ]
    },
    {
     "data": {
      "image/png": "[encoded data removed]",
      "text/plain": [
       "<Figure size 800x600 with 1 Axes>"
      ]
     },
     "metadata": {},
     "output_type": "display_data"
    }
   ],
   "source": [
    "plt.figure(figsize=(8, 6))\n",
    "plt.hist(combinado['EDAD'], bins=20, color='blue', edgecolor='black')\n",
    "plt.title('Distribución de Edades de las Víctimas')\n",
    "plt.xlabel('Edad')\n",
    "plt.ylabel('Frecuencia')\n",
    "plt.grid(axis='y')\n",
    "plt.show()"
   ]
  },
  {
   "cell_type": "markdown",
   "metadata": {},
   "source": [
    "Se oberseva que el rango de edades entre los 20 y 40 años son los mas afectados pero esto puede deberse a que estas son las edades donde hay mas conductores activos, sin embargo el pico cercano a los 30 puede deberse a otras razones."
   ]
  },
  {
   "cell_type": "markdown",
   "metadata": {},
   "source": [
    "## Relacion TIPO_DE_CALLE - NUMERO DE VICTIMAS"
   ]
  },
  {
   "cell_type": "code",
   "execution_count": null,
   "metadata": {},
   "outputs": [
    {
     "data": {
      "image/png": "[encoded data removed]",
      "text/plain": [
       "<Figure size 1000x600 with 1 Axes>"
      ]
     },
     "metadata": {},
     "output_type": "display_data"
    }
   ],
   "source": [
    "plt.figure(figsize=(10, 6))\n",
    "combinado['TIPO_DE_CALLE'].value_counts().plot(kind='bar', color='blue')\n",
    "plt.title('Frecuencia de Tipos de Calle')\n",
    "plt.xlabel('Tipo de Calle')\n",
    "plt.ylabel('Frecuencia')\n",
    "plt.xticks(rotation=45)\n",
    "plt.grid(axis='y')\n",
    "plt.show()"
   ]
  },
  {
   "cell_type": "markdown",
   "metadata": {},
   "source": [
    "notamos un dominio de la categoria AVENIDA esto puede deberse a que las caracteristicas de esta categoria como su liminite de velocidad y amplitud presentan un ambiente optimo para la ocurrencia de siniestros viales. las categorias AUTOPISTA y GRAL PAZ parecen ser en la que menos siniestros ocurren"
   ]
  },
  {
   "cell_type": "markdown",
   "metadata": {},
   "source": [
    "## Relacion MM - N_VICTIMAS"
   ]
  },
  {
   "cell_type": "code",
   "execution_count": null,
   "metadata": {},
   "outputs": [
    {
     "data": {
      "image/png": "[encoded data removed]",
      "text/plain": [
       "<Figure size 1000x600 with 1 Axes>"
      ]
     },
     "metadata": {},
     "output_type": "display_data"
    }
   ],
   "source": [
    "plt.figure(figsize=(10, 6))\n",
    "combinado.groupby('MM')['N_VICTIMAS'].sum().plot(kind='bar',color='blue')\n",
    "plt.title('Cantidad de Siniestros por Mes')\n",
    "plt.xlabel('Mes')\n",
    "plt.ylabel('Cantidad de Siniestros')\n",
    "plt.xticks(rotation=0)\n",
    "plt.grid(axis='y')\n",
    "plt.show()"
   ]
  },
  {
   "cell_type": "markdown",
   "metadata": {},
   "source": [
    "Se observa que el mes 12  contiene la mayor cantidad de homicidios. Esto se puede deber a la cantidad de visitantes en la ciudad porque coincide con festividades"
   ]
  }
 ],
 "metadata": {
  "kernelspec": {
   "display_name": "Python 3",
   "language": "python",
   "name": "python3"
  },
  "language_info": {
   "codemirror_mode": {
    "name": "ipython",
    "version": 3
   },
   "file_extension": ".py",
   "mimetype": "text/x-python",
   "name": "python",
   "nbconvert_exporter": "python",
   "pygments_lexer": "ipython3",
   "version": "3.11.4"
  },
  "orig_nbformat": 4
 },
 "nbformat": 4,
 "nbformat_minor": 2
}
